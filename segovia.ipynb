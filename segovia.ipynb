{
 "cells": [
  {
   "cell_type": "code",
   "execution_count": 1,
   "metadata": {
    "collapsed": true
   },
   "outputs": [],
   "source": [
    "import numpy as np\n",
    "import copy\n",
    "from shapely.geometry.polygon import LinearRing, Polygon\n",
    "from shapely.geometry import Point\n",
    "import random\n",
    "from shapely import affinity\n",
    "import matplotlib.pyplot as plt\n",
    "%matplotlib notebook\n",
    "import time"
   ]
  },
  {
   "cell_type": "code",
   "execution_count": 2,
   "metadata": {
    "collapsed": true
   },
   "outputs": [],
   "source": [
    "class Room():        \n",
    "    def __init__(self, shape):\n",
    "        self.shape = shape\n",
    "        self.polygon = Polygon(np.array(shape, dtype=np.float64))"
   ]
  },
  {
   "cell_type": "code",
   "execution_count": 3,
   "metadata": {
    "collapsed": true
   },
   "outputs": [],
   "source": [
    "class FurnitureItem(): \n",
    "    def __init__(self, unitcost, shape):\n",
    "        self.shape = shape\n",
    "        self.unit_cost = unitcost\n",
    "        self.polygon = Polygon(np.array(shape, dtype=np.float64))\n",
    "        self.total_cost = np.float64((np.float64(self.unit_cost) * self.polygon.area))\n",
    "        self.sorting = (self.polygon, self.polygon.area)"
   ]
  },
  {
   "cell_type": "code",
   "execution_count": 4,
   "metadata": {
    "collapsed": true
   },
   "outputs": [],
   "source": [
    "class Problem():\n",
    "    def __init__(self, room, furniture):\n",
    "        self.room = room\n",
    "        self.furniture = furniture"
   ]
  },
  {
   "cell_type": "code",
   "execution_count": 5,
   "metadata": {
    "collapsed": true
   },
   "outputs": [],
   "source": [
    "problems = []\n",
    "with open('problems.rfp') as f:\n",
    "    for line in f:\n",
    "        furnitureList = []\n",
    "        problem = line.replace(\" \",\"\").split(\"#\")\n",
    "\n",
    "        room_shape = problem[0].split(\":\")[1]\n",
    "        furniture = problem[1].split(\";\")\n",
    "\n",
    "        room = Room([tuple(np.float64(i) for i in el.strip('()').split(',')) for el in room_shape.split('),(')])\n",
    "\n",
    "        for furnitureItem in furniture:\n",
    "            parse_furniture = furnitureItem.strip().split(\":\")\n",
    "            unit_cost = parse_furniture[0]\n",
    "            shape = [tuple(np.float64(i) for i in el.strip('()').split(',')) for el in parse_furniture[1].split('),(')]\n",
    "            furnitureItem = FurnitureItem(unit_cost, shape)\n",
    "            furnitureList.append(furnitureItem)\n",
    "        problems.append(Problem(room,furnitureList))"
   ]
  },
  {
   "cell_type": "code",
   "execution_count": 6,
   "metadata": {
    "collapsed": true
   },
   "outputs": [],
   "source": [
    "def plot(poly):\n",
    "    x,y = poly.exterior.xy\n",
    "    plt.plot(x, y, color='#6699cc', alpha=0.7, linewidth=3, solid_capstyle='round', zorder=2)\n",
    "    plt.show()"
   ]
  },
  {
   "cell_type": "code",
   "execution_count": 7,
   "metadata": {
    "collapsed": true
   },
   "outputs": [],
   "source": [
    "def random_points_within(poly, num_points):\n",
    "    min_x, min_y, max_x, max_y = poly.bounds\n",
    "    points = []\n",
    "    while len(points) < num_points:\n",
    "        random_point = Point([random.uniform(min_x, max_x), random.uniform(min_y, max_y)])\n",
    "        if (random_point.within(poly)):\n",
    "            points.append(random_point)\n",
    "    return points"
   ]
  },
  {
   "cell_type": "code",
   "execution_count": null,
   "metadata": {},
   "outputs": [
    {
     "name": "stdout",
     "output_type": "stream",
     "text": [
      "493 91.24999999999991\n",
      "482 90.24999999999991\n",
      "481 89.24999999999991\n",
      "480 88.24999999999991\n",
      "479 87.24999999999991\n",
      "478 86.24999999999991\n",
      "477 85.24999999999991\n",
      "476 84.24999999999991\n",
      "475 83.24999999999991\n",
      "474 81.99999999999991\n",
      "473 80.99999999999991\n",
      "472 79.99999999999991\n",
      "471 78.99999999999991\n",
      "470 77.99999999999991\n",
      "469 76.99999999999991\n",
      "468 75.99999999999991\n",
      "467 74.99999999999991\n"
     ]
    }
   ],
   "source": [
    "solution = []\n",
    "room_2 = problems[10].room.polygon\n",
    "shapes = copy.copy(problems[10].furniture)\n",
    "initial_area = room_2.area\n",
    "while (room_2.area) > initial_area*0.7:\n",
    "    for j in shapes:\n",
    "        x,y = j.polygon.exterior.xy\n",
    "        if len(x) >= 5:\n",
    "            points = random_points_within(room_2,1)[0]\n",
    "            polygon = affinity.translate(j.polygon, points.x, points.y)\n",
    "            polygon = affinity.rotate(polygon, random.uniform(0,180),origin=\"centroid\")\n",
    "            if room_2.contains(polygon):\n",
    "                room_2 = room_2.difference(polygon)\n",
    "                x,y = polygon.exterior.xy\n",
    "                solution.append(list(zip(*(x,y))))\n",
    "                shapes.remove(j)\n",
    "                print(len(shapes), (room_2.area))\n",
    "        else:\n",
    "            shapes.remove(j)\n",
    "\n",
    "room_2.area"
   ]
  },
  {
   "cell_type": "code",
   "execution_count": null,
   "metadata": {},
   "outputs": [],
   "source": [
    "output = \"\"\n",
    "for x in solution:\n",
    "    output = output + str(x[:-1]).replace('[','').replace(']','') + \"; \"\n",
    "print(output)"
   ]
  },
  {
   "cell_type": "code",
   "execution_count": 17,
   "metadata": {},
   "outputs": [],
   "source": [
    "x,y = problems[0].furniture[0].polygon.exterior.xy"
   ]
  },
  {
   "cell_type": "code",
   "execution_count": 18,
   "metadata": {},
   "outputs": [
    {
     "data": {
      "text/plain": [
       "5"
      ]
     },
     "execution_count": 18,
     "metadata": {},
     "output_type": "execute_result"
    }
   ],
   "source": [
    "len(x)"
   ]
  },
  {
   "cell_type": "code",
   "execution_count": null,
   "metadata": {
    "collapsed": true
   },
   "outputs": [],
   "source": []
  }
 ],
 "metadata": {
  "kernelspec": {
   "display_name": "Python [conda root]",
   "language": "python",
   "name": "conda-root-py"
  },
  "language_info": {
   "codemirror_mode": {
    "name": "ipython",
    "version": 3
   },
   "file_extension": ".py",
   "mimetype": "text/x-python",
   "name": "python",
   "nbconvert_exporter": "python",
   "pygments_lexer": "ipython3",
   "version": "3.6.1"
  }
 },
 "nbformat": 4,
 "nbformat_minor": 2
}

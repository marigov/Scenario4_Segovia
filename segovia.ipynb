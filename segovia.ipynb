{
 "cells": [
  {
   "cell_type": "code",
   "execution_count": 1,
   "metadata": {
    "collapsed": true
   },
   "outputs": [],
   "source": [
    "import numpy as np\n",
    "import copy\n",
    "from shapely.geometry.polygon import LinearRing, Polygon\n",
    "from shapely.geometry import Point\n",
    "import random\n",
    "from shapely import affinity\n",
    "import matplotlib.pyplot as plt\n",
    "import time"
   ]
  },
  {
   "cell_type": "code",
   "execution_count": 2,
   "metadata": {
    "collapsed": true
   },
   "outputs": [],
   "source": [
    "class Room():        \n",
    "    def __init__(self, shape):\n",
    "        self.shape = shape\n",
    "        self.polygon = Polygon(np.array(shape, dtype=np.float64))"
   ]
  },
  {
   "cell_type": "code",
   "execution_count": 3,
   "metadata": {
    "collapsed": true
   },
   "outputs": [],
   "source": [
    "class FurnitureItem(): \n",
    "    def __init__(self, unitcost, shape):\n",
    "        self.shape = shape\n",
    "        self.unit_cost = unitcost\n",
    "        self.polygon = Polygon(np.array(shape, dtype=np.float64))\n",
    "        self.total_cost = np.float64((np.float64(self.unit_cost) * self.polygon.area))\n",
    "        self.sorting = (self.polygon, self.polygon.area)"
   ]
  },
  {
   "cell_type": "code",
   "execution_count": 4,
   "metadata": {
    "collapsed": true
   },
   "outputs": [],
   "source": [
    "class Problem():\n",
    "    def __init__(self, room, furniture):\n",
    "        self.room = room\n",
    "        self.furniture = furniture"
   ]
  },
  {
   "cell_type": "code",
   "execution_count": 5,
   "metadata": {
    "collapsed": true
   },
   "outputs": [],
   "source": [
    "problems = []\n",
    "with open('problems.rfp') as f:\n",
    "    for line in f:\n",
    "        furnitureList = []\n",
    "        problem = line.replace(\" \",\"\").split(\"#\")\n",
    "\n",
    "        room_shape = problem[0].split(\":\")[1]\n",
    "        furniture = problem[1].split(\";\")\n",
    "\n",
    "        room = Room([tuple(np.float64(i) for i in el.strip('()').split(',')) for el in room_shape.split('),(')])\n",
    "\n",
    "        for furnitureItem in furniture:\n",
    "            parse_furniture = furnitureItem.strip().split(\":\")\n",
    "            unit_cost = parse_furniture[0]\n",
    "            shape = [tuple(np.float64(i) for i in el.strip('()').split(',')) for el in parse_furniture[1].split('),(')]\n",
    "            furnitureItem = FurnitureItem(unit_cost, shape)\n",
    "            furnitureList.append(furnitureItem)\n",
    "        problems.append(Problem(room,furnitureList))"
   ]
  },
  {
   "cell_type": "code",
   "execution_count": 6,
   "metadata": {
    "collapsed": true
   },
   "outputs": [],
   "source": [
    "def plot(poly):\n",
    "    x,y = poly.exterior.xy\n",
    "    plt.plot(x, y, color='#6699cc', alpha=0.7, linewidth=3, solid_capstyle='round', zorder=2)\n",
    "    plt.show()"
   ]
  },
  {
   "cell_type": "code",
   "execution_count": 7,
   "metadata": {
    "collapsed": true
   },
   "outputs": [],
   "source": [
    "def random_points_within(poly, num_points):\n",
    "    min_x, min_y, max_x, max_y = poly.bounds\n",
    "    points = []\n",
    "    while len(points) < num_points:\n",
    "        random_point = Point([random.uniform(min_x, max_x), random.uniform(min_y, max_y)])\n",
    "        if (random_point.within(poly)):\n",
    "            points.append(random_point)\n",
    "    return points"
   ]
  },
  {
   "cell_type": "code",
   "execution_count": 8,
   "metadata": {
    "collapsed": true
   },
   "outputs": [],
   "source": [
    "shapeFuck = Polygon([(-1.520878428822382, 0.05762291911687356), (-2.068385058693476, -0.05523314074344998), (-2.2230288086118244, 0.14119829923292293), (-1.984809678577427, 0.6469172390459922), (-2.5323163084485207, 0.5340611791856684), (-2.686960058366869, 0.7304926191620414), (-2.4487409283324713, 1.2362115589751108), (-2.9962475582035655, 1.123355499114787), (-3.1508913081219134, 1.3197869390911598), (-2.912672178087516, 1.8255058789042293), (-3.853041687911356, 1.4033623192072089), (-2.3066041887278734, -0.5609520805565194),(-1.520878428822382, 0.05762291911687356)])\n",
    "new_room = problems[10].room.polygon.difference(shapeFuck)"
   ]
  },
  {
   "cell_type": "code",
   "execution_count": 29,
   "metadata": {},
   "outputs": [
    {
     "ename": "KeyboardInterrupt",
     "evalue": "",
     "output_type": "error",
     "traceback": [
      "\u001b[0;31m---------------------------------------------------------------------------\u001b[0m",
      "\u001b[0;31mKeyboardInterrupt\u001b[0m                         Traceback (most recent call last)",
      "\u001b[0;32m<ipython-input-29-9734d5e6faa9>\u001b[0m in \u001b[0;36m<module>\u001b[0;34m()\u001b[0m\n\u001b[1;32m      9\u001b[0m             \u001b[0mx\u001b[0m\u001b[0;34m,\u001b[0m\u001b[0my\u001b[0m \u001b[0;34m=\u001b[0m \u001b[0mj\u001b[0m\u001b[0;34m.\u001b[0m\u001b[0mpolygon\u001b[0m\u001b[0;34m.\u001b[0m\u001b[0mexterior\u001b[0m\u001b[0;34m.\u001b[0m\u001b[0mxy\u001b[0m\u001b[0;34m\u001b[0m\u001b[0m\n\u001b[1;32m     10\u001b[0m             \u001b[0;32mif\u001b[0m \u001b[0mlen\u001b[0m\u001b[0;34m(\u001b[0m\u001b[0mx\u001b[0m\u001b[0;34m)\u001b[0m \u001b[0;34m==\u001b[0m \u001b[0;36m4\u001b[0m\u001b[0;34m:\u001b[0m\u001b[0;34m\u001b[0m\u001b[0m\n\u001b[0;32m---> 11\u001b[0;31m                 \u001b[0mpoints\u001b[0m \u001b[0;34m=\u001b[0m \u001b[0mrandom_points_within\u001b[0m\u001b[0;34m(\u001b[0m\u001b[0mroom_2\u001b[0m\u001b[0;34m,\u001b[0m\u001b[0;36m1\u001b[0m\u001b[0;34m)\u001b[0m\u001b[0;34m[\u001b[0m\u001b[0;36m0\u001b[0m\u001b[0;34m]\u001b[0m\u001b[0;34m\u001b[0m\u001b[0m\n\u001b[0m\u001b[1;32m     12\u001b[0m                 \u001b[0mpolygon\u001b[0m \u001b[0;34m=\u001b[0m \u001b[0maffinity\u001b[0m\u001b[0;34m.\u001b[0m\u001b[0mtranslate\u001b[0m\u001b[0;34m(\u001b[0m\u001b[0mj\u001b[0m\u001b[0;34m.\u001b[0m\u001b[0mpolygon\u001b[0m\u001b[0;34m,\u001b[0m \u001b[0mpoints\u001b[0m\u001b[0;34m.\u001b[0m\u001b[0mx\u001b[0m\u001b[0;34m,\u001b[0m \u001b[0mpoints\u001b[0m\u001b[0;34m.\u001b[0m\u001b[0my\u001b[0m\u001b[0;34m)\u001b[0m\u001b[0;34m\u001b[0m\u001b[0m\n\u001b[1;32m     13\u001b[0m                 \u001b[0mpolygon\u001b[0m \u001b[0;34m=\u001b[0m \u001b[0maffinity\u001b[0m\u001b[0;34m.\u001b[0m\u001b[0mrotate\u001b[0m\u001b[0;34m(\u001b[0m\u001b[0mpolygon\u001b[0m\u001b[0;34m,\u001b[0m \u001b[0mrandom\u001b[0m\u001b[0;34m.\u001b[0m\u001b[0muniform\u001b[0m\u001b[0;34m(\u001b[0m\u001b[0;36m0\u001b[0m\u001b[0;34m,\u001b[0m\u001b[0;36m180\u001b[0m\u001b[0;34m)\u001b[0m\u001b[0;34m,\u001b[0m\u001b[0morigin\u001b[0m\u001b[0;34m=\u001b[0m\u001b[0;34m\"centroid\"\u001b[0m\u001b[0;34m)\u001b[0m\u001b[0;34m\u001b[0m\u001b[0m\n",
      "\u001b[0;32m<ipython-input-7-f1972b77bd20>\u001b[0m in \u001b[0;36mrandom_points_within\u001b[0;34m(poly, num_points)\u001b[0m\n\u001b[1;32m      4\u001b[0m     \u001b[0;32mwhile\u001b[0m \u001b[0mlen\u001b[0m\u001b[0;34m(\u001b[0m\u001b[0mpoints\u001b[0m\u001b[0;34m)\u001b[0m \u001b[0;34m<\u001b[0m \u001b[0mnum_points\u001b[0m\u001b[0;34m:\u001b[0m\u001b[0;34m\u001b[0m\u001b[0m\n\u001b[1;32m      5\u001b[0m         \u001b[0mrandom_point\u001b[0m \u001b[0;34m=\u001b[0m \u001b[0mPoint\u001b[0m\u001b[0;34m(\u001b[0m\u001b[0;34m[\u001b[0m\u001b[0mrandom\u001b[0m\u001b[0;34m.\u001b[0m\u001b[0muniform\u001b[0m\u001b[0;34m(\u001b[0m\u001b[0mmin_x\u001b[0m\u001b[0;34m,\u001b[0m \u001b[0mmax_x\u001b[0m\u001b[0;34m)\u001b[0m\u001b[0;34m,\u001b[0m \u001b[0mrandom\u001b[0m\u001b[0;34m.\u001b[0m\u001b[0muniform\u001b[0m\u001b[0;34m(\u001b[0m\u001b[0mmin_y\u001b[0m\u001b[0;34m,\u001b[0m \u001b[0mmax_y\u001b[0m\u001b[0;34m)\u001b[0m\u001b[0;34m]\u001b[0m\u001b[0;34m)\u001b[0m\u001b[0;34m\u001b[0m\u001b[0m\n\u001b[0;32m----> 6\u001b[0;31m         \u001b[0;32mif\u001b[0m \u001b[0;34m(\u001b[0m\u001b[0mrandom_point\u001b[0m\u001b[0;34m.\u001b[0m\u001b[0mwithin\u001b[0m\u001b[0;34m(\u001b[0m\u001b[0mpoly\u001b[0m\u001b[0;34m)\u001b[0m\u001b[0;34m)\u001b[0m\u001b[0;34m:\u001b[0m\u001b[0;34m\u001b[0m\u001b[0m\n\u001b[0m\u001b[1;32m      7\u001b[0m             \u001b[0mpoints\u001b[0m\u001b[0;34m.\u001b[0m\u001b[0mappend\u001b[0m\u001b[0;34m(\u001b[0m\u001b[0mrandom_point\u001b[0m\u001b[0;34m)\u001b[0m\u001b[0;34m\u001b[0m\u001b[0m\n\u001b[1;32m      8\u001b[0m     \u001b[0;32mreturn\u001b[0m \u001b[0mpoints\u001b[0m\u001b[0;34m\u001b[0m\u001b[0m\n",
      "\u001b[0;32m/Users/marigov/anaconda/lib/python3.6/site-packages/shapely/geometry/base.py\u001b[0m in \u001b[0;36mwithin\u001b[0;34m(self, other)\u001b[0m\n\u001b[1;32m    721\u001b[0m     \u001b[0;32mdef\u001b[0m \u001b[0mwithin\u001b[0m\u001b[0;34m(\u001b[0m\u001b[0mself\u001b[0m\u001b[0;34m,\u001b[0m \u001b[0mother\u001b[0m\u001b[0;34m)\u001b[0m\u001b[0;34m:\u001b[0m\u001b[0;34m\u001b[0m\u001b[0m\n\u001b[1;32m    722\u001b[0m         \u001b[0;34m\"\"\"Returns True if geometry is within the other, else False\"\"\"\u001b[0m\u001b[0;34m\u001b[0m\u001b[0m\n\u001b[0;32m--> 723\u001b[0;31m         \u001b[0;32mreturn\u001b[0m \u001b[0mbool\u001b[0m\u001b[0;34m(\u001b[0m\u001b[0mself\u001b[0m\u001b[0;34m.\u001b[0m\u001b[0mimpl\u001b[0m\u001b[0;34m[\u001b[0m\u001b[0;34m'within'\u001b[0m\u001b[0;34m]\u001b[0m\u001b[0;34m(\u001b[0m\u001b[0mself\u001b[0m\u001b[0;34m,\u001b[0m \u001b[0mother\u001b[0m\u001b[0;34m)\u001b[0m\u001b[0;34m)\u001b[0m\u001b[0;34m\u001b[0m\u001b[0m\n\u001b[0m\u001b[1;32m    724\u001b[0m \u001b[0;34m\u001b[0m\u001b[0m\n\u001b[1;32m    725\u001b[0m     \u001b[0;32mdef\u001b[0m \u001b[0mequals_exact\u001b[0m\u001b[0;34m(\u001b[0m\u001b[0mself\u001b[0m\u001b[0;34m,\u001b[0m \u001b[0mother\u001b[0m\u001b[0;34m,\u001b[0m \u001b[0mtolerance\u001b[0m\u001b[0;34m)\u001b[0m\u001b[0;34m:\u001b[0m\u001b[0;34m\u001b[0m\u001b[0m\n",
      "\u001b[0;32m/Users/marigov/anaconda/lib/python3.6/site-packages/shapely/predicates.py\u001b[0m in \u001b[0;36m__call__\u001b[0;34m(self, this, other, *args)\u001b[0m\n\u001b[1;32m     13\u001b[0m         \u001b[0mself\u001b[0m\u001b[0;34m.\u001b[0m\u001b[0m_validate\u001b[0m\u001b[0;34m(\u001b[0m\u001b[0mother\u001b[0m\u001b[0;34m,\u001b[0m \u001b[0mstop_prepared\u001b[0m\u001b[0;34m=\u001b[0m\u001b[0;32mTrue\u001b[0m\u001b[0;34m)\u001b[0m\u001b[0;34m\u001b[0m\u001b[0m\n\u001b[1;32m     14\u001b[0m         \u001b[0;32mtry\u001b[0m\u001b[0;34m:\u001b[0m\u001b[0;34m\u001b[0m\u001b[0m\n\u001b[0;32m---> 15\u001b[0;31m             \u001b[0;32mreturn\u001b[0m \u001b[0mself\u001b[0m\u001b[0;34m.\u001b[0m\u001b[0mfn\u001b[0m\u001b[0;34m(\u001b[0m\u001b[0mthis\u001b[0m\u001b[0;34m.\u001b[0m\u001b[0m_geom\u001b[0m\u001b[0;34m,\u001b[0m \u001b[0mother\u001b[0m\u001b[0;34m.\u001b[0m\u001b[0m_geom\u001b[0m\u001b[0;34m,\u001b[0m \u001b[0;34m*\u001b[0m\u001b[0margs\u001b[0m\u001b[0;34m)\u001b[0m\u001b[0;34m\u001b[0m\u001b[0m\n\u001b[0m\u001b[1;32m     16\u001b[0m         \u001b[0;32mexcept\u001b[0m \u001b[0mPredicateError\u001b[0m \u001b[0;32mas\u001b[0m \u001b[0merr\u001b[0m\u001b[0;34m:\u001b[0m\u001b[0;34m\u001b[0m\u001b[0m\n\u001b[1;32m     17\u001b[0m             \u001b[0;31m# Dig deeper into causes of errors.\u001b[0m\u001b[0;34m\u001b[0m\u001b[0;34m\u001b[0m\u001b[0m\n",
      "\u001b[0;32m/Users/marigov/anaconda/lib/python3.6/site-packages/shapely/geos.py\u001b[0m in \u001b[0;36merrcheck_predicate\u001b[0;34m(result, func, argtuple)\u001b[0m\n\u001b[1;32m    543\u001b[0m \u001b[0;34m\u001b[0m\u001b[0m\n\u001b[1;32m    544\u001b[0m \u001b[0;34m\u001b[0m\u001b[0m\n\u001b[0;32m--> 545\u001b[0;31m \u001b[0;32mdef\u001b[0m \u001b[0merrcheck_predicate\u001b[0m\u001b[0;34m(\u001b[0m\u001b[0mresult\u001b[0m\u001b[0;34m,\u001b[0m \u001b[0mfunc\u001b[0m\u001b[0;34m,\u001b[0m \u001b[0margtuple\u001b[0m\u001b[0;34m)\u001b[0m\u001b[0;34m:\u001b[0m\u001b[0;34m\u001b[0m\u001b[0m\n\u001b[0m\u001b[1;32m    546\u001b[0m     \u001b[0;34m\"\"\"Result is 2 on exception, 1 on True, 0 on False\"\"\"\u001b[0m\u001b[0;34m\u001b[0m\u001b[0m\n\u001b[1;32m    547\u001b[0m     \u001b[0;32mif\u001b[0m \u001b[0mresult\u001b[0m \u001b[0;34m==\u001b[0m \u001b[0;36m2\u001b[0m\u001b[0;34m:\u001b[0m\u001b[0;34m\u001b[0m\u001b[0m\n",
      "\u001b[0;31mKeyboardInterrupt\u001b[0m: "
     ]
    }
   ],
   "source": [
    "solution = []\n",
    "room_2 = problems[10].room.polygon\n",
    "shapes = copy.copy(problems[10].furniture)\n",
    "initial_area = room_2.area\n",
    "room_2 = new_room\n",
    "while (room_2.area) > initial_area*0.7:\n",
    "    while(room_2.area > 76):\n",
    "        for j in shapes:\n",
    "            x,y = j.polygon.exterior.xy\n",
    "            if len(x) == 4:\n",
    "                points = random_points_within(room_2,1)[0]\n",
    "                polygon = affinity.translate(j.polygon, points.x, points.y)\n",
    "                polygon = affinity.rotate(polygon, random.uniform(0,180),origin=\"centroid\")\n",
    "                if room_2.contains(polygon):\n",
    "                    room_2 = room_2.difference(polygon)\n",
    "                    x,y = polygon.exterior.xy\n",
    "                    solution.append(list(zip(*(x,y))))\n",
    "                    shapes.remove(j)\n",
    "                    print(len(shapes), (room_2.area))\n",
    "\n",
    "    for j in shapes:\n",
    "            x,y = j.polygon.exterior.xy\n",
    "            if len(x) == 4 or len(x)==5:\n",
    "                points = random_points_within(room_2,1)[0]\n",
    "                polygon = affinity.translate(j.polygon, points.x, points.y)\n",
    "                polygon = affinity.rotate(polygon, random.uniform(0,180),origin=\"centroid\")\n",
    "                if room_2.contains(polygon):\n",
    "                    room_2 = room_2.difference(polygon)\n",
    "                    x,y = polygon.exterior.xy\n",
    "                    solution.append(list(zip(*(x,y))))\n",
    "                    shapes.remove(j)\n",
    "                    print(len(shapes), (room_2.area))\n",
    "room_2.area"
   ]
  },
  {
   "cell_type": "code",
   "execution_count": 10,
   "metadata": {},
   "outputs": [
    {
     "name": "stdout",
     "output_type": "stream",
     "text": [
      "(-9.74321811986195, -0.9350547282775479), (-10.84568619832866, -3.7695854012394605), (-8.883503743683315, -1.4458298171295578); (-7.401180834291031, -0.4811682971095861), (-6.078018373512965, 2.2573059317974042), (-8.217812343083672, 0.09599110794854315); \n"
     ]
    }
   ],
   "source": [
    "output = \"\"\n",
    "for x in solution:\n",
    "    output = output + str(x[:-1]).replace('[','').replace(']','') + \"; \"\n",
    "print(output)"
   ]
  },
  {
   "cell_type": "code",
   "execution_count": 11,
   "metadata": {},
   "outputs": [
    {
     "data": {
      "image/svg+xml": [
       "<svg xmlns=\"http://www.w3.org/2000/svg\" xmlns:xlink=\"http://www.w3.org/1999/xlink\" width=\"100.0\" height=\"100.0\" viewBox=\"-2.293496273647791 -0.6397437661323673 2.3908024260166454 2.6272661139590694\" preserveAspectRatio=\"xMinYMin meet\"><g transform=\"matrix(1,0,0,-1,0,1.3477785816943346)\"><path fill-rule=\"evenodd\" fill=\"#66cc99\" stroke=\"#555555\" stroke-width=\"0.052545322279181385\" opacity=\"0.6\" d=\"M 0.0,0.0 L -0.5556574468759555,-0.06119478516421778 L -0.6912668503168338,0.14882923655332084 L -0.4068282103226347,0.6300720651526159 L -0.9624856571985901,0.568877279988398 L -1.0980950606394684,0.7789013017059366 L -0.8136564206452692,1.2601441303052316 L -1.3693138675212246,1.1989493451410138 L -1.504923270962103,1.4089733668585522 L -1.2204846309679038,1.8902161954578476 L -2.1961901212789363,1.557802603411873 L -0.8400960868701545,-0.5424376137635128 L 0.0,0.0 z\" /></g></svg>"
      ],
      "text/plain": [
       "<shapely.geometry.polygon.Polygon at 0x105a51780>"
      ]
     },
     "execution_count": 11,
     "metadata": {},
     "output_type": "execute_result"
    }
   ],
   "source": [
    "test = Polygon()\n",
    "for item in problems[10].furniture:\n",
    "    x, y = item.polygon.exterior.xy\n",
    "    if(len(x) == 13):\n",
    "        test = item\n",
    "        break\n",
    "test.polygon"
   ]
  },
  {
   "cell_type": "code",
   "execution_count": 12,
   "metadata": {},
   "outputs": [],
   "source": [
    "import pickle as cPickle\n",
    "with open(\"output.pkl\", \"rb\") as input:\n",
    "    shape13 = cPickle.load(input)\n"
   ]
  },
  {
   "cell_type": "code",
   "execution_count": 13,
   "metadata": {},
   "outputs": [
    {
     "data": {
      "text/plain": [
       "'(-1.520878428822382, 0.05762291911687356), (-2.068385058693476, -0.05523314074344998), (-2.2230288086118244, 0.14119829923292293), (-1.984809678577427, 0.6469172390459922), (-2.5323163084485207, 0.5340611791856684), (-2.686960058366869, 0.7304926191620414), (-2.4487409283324713, 1.2362115589751108), (-2.9962475582035655, 1.123355499114787), (-3.1508913081219134, 1.3197869390911598), (-2.912672178087516, 1.8255058789042293), (-3.853041687911356, 1.4033623192072089), (-2.3066041887278734, -0.5609520805565194); '"
      ]
     },
     "execution_count": 13,
     "metadata": {},
     "output_type": "execute_result"
    }
   ],
   "source": [
    "shape13"
   ]
  },
  {
   "cell_type": "code",
   "execution_count": 14,
   "metadata": {},
   "outputs": [],
   "source": [
    "shapeFuck = Polygon([(-1.520878428822382, 0.05762291911687356), (-2.068385058693476, -0.05523314074344998), (-2.2230288086118244, 0.14119829923292293), (-1.984809678577427, 0.6469172390459922), (-2.5323163084485207, 0.5340611791856684), (-2.686960058366869, 0.7304926191620414), (-2.4487409283324713, 1.2362115589751108), (-2.9962475582035655, 1.123355499114787), (-3.1508913081219134, 1.3197869390911598), (-2.912672178087516, 1.8255058789042293), (-3.853041687911356, 1.4033623192072089), (-2.3066041887278734, -0.5609520805565194),(-1.520878428822382, 0.05762291911687356)])"
   ]
  },
  {
   "cell_type": "code",
   "execution_count": 15,
   "metadata": {},
   "outputs": [],
   "source": [
    "room_11 = problems[10].room.polygon\n",
    "furniture_items_13 = []\n",
    "\n",
    "for item in problems[10].furniture:\n",
    "    x,y = item.polygon.exterior.xy\n",
    "    if(len(x)==13):\n",
    "        furniture_items_13.append(item.polygon)"
   ]
  },
  {
   "cell_type": "code",
   "execution_count": null,
   "metadata": {
    "scrolled": false
   },
   "outputs": [],
   "source": [
    "%matplotlib inline\n",
    "import pandas as pd\n",
    "from IPython import display\n",
    "\n",
    "roomX,roomY = problems[10].room.polygon.exterior.xy\n",
    "x, y = (-1.449844750954127, -1.3776611332728979)\n",
    "z= 0\n",
    "item = furniture_items_13[3]\n",
    "print(z)\n",
    "itemExX,itmeExY = item.exterior.xy\n",
    "shapeCoordinates = list(zip(*(itemExX,itmeExY)))\n",
    "(shapeX, shapeY) = shapeCoordinates[11]\n",
    "trans_shape = affinity.translate(item, x-shapeX, y-shapeY)\n",
    "for i in range(250,300):\n",
    "    rotated_trans_shape = affinity.rotate(trans_shape, i, origin=(x, y))\n",
    "    sX,sY = rotated_trans_shape.exterior.xy  \n",
    "    plt.plot(roomX, roomY, color='#6699cc', alpha=0.7, linewidth=3, solid_capstyle='round', zorder=2)\n",
    "    plt.plot(sX, sY, color='#6699cc', alpha=0.7, linewidth=3, solid_capstyle='round', zorder=2)\n",
    "    display.display(plt.gcf())\n",
    "    display.display(plt.clf())\n",
    "    display.clear_output(wait=True)\n",
    "    time.sleep(0.0001)            \n",
    "            "
   ]
  },
  {
   "cell_type": "code",
   "execution_count": 17,
   "metadata": {},
   "outputs": [
    {
     "data": {
      "image/svg+xml": [
       "<svg xmlns=\"http://www.w3.org/2000/svg\" xmlns:xlink=\"http://www.w3.org/1999/xlink\" width=\"100.0\" height=\"100.0\" viewBox=\"-1.6601075044036597 -4.409001277308965 5.677094343137382 4.610750310428427\" preserveAspectRatio=\"xMinYMin meet\"><g transform=\"matrix(1,0,0,-1,0,-4.207252244189503)\"><path fill-rule=\"evenodd\" fill=\"#66cc99\" stroke=\"#555555\" stroke-width=\"0.11354188686274763\" opacity=\"0.6\" d=\"M -1.449844750954127,-1.3776611332728979 L 0.09139999328085666,-0.00851372033007003 L -0.06000169683608042,-1.1162490353894645 L 0.3528120911642899,-1.398356774448118 L 1.3298413572819676,-0.8548369375060307 L 1.178439667165031,-1.9625722525654248 L 1.5912534551654007,-2.2446799916240785 L 2.568282721283078,-1.701160154681991 L 2.4168810311661417,-2.808895469741385 L 2.829694819166512,-3.0910032088000383 L 3.806724085284189,-2.5474833718579517 L 2.678293129049575,-4.198738523859433 L -1.449844750954127,-1.3776611332728979 z\" /></g></svg>"
      ],
      "text/plain": [
       "<shapely.geometry.polygon.Polygon at 0x1062cc898>"
      ]
     },
     "execution_count": 17,
     "metadata": {},
     "output_type": "execute_result"
    }
   ],
   "source": [
    "item = furniture_items_13[3]\n",
    "itemExX,itmeExY = item.exterior.xy\n",
    "x, y = (-1.449844750954127, -1.3776611332728979)\n",
    "shapeCoordinates = list(zip(*(itemExX,itmeExY)))\n",
    "(shapeX, shapeY) = shapeCoordinates[10]\n",
    "trans_shape = affinity.translate(item, x-shapeX, y-shapeY)\n",
    "rotated_trans_shape = affinity.rotate(trans_shape, 271.6749657167449925054825143888592720031738281250, origin=(x, y))\n",
    "rotated_trans_shape.difference(room_11)"
   ]
  },
  {
   "cell_type": "code",
   "execution_count": 36,
   "metadata": {},
   "outputs": [
    {
     "name": "stdout",
     "output_type": "stream",
     "text": [
      "7.182424167590647e-14\n"
     ]
    }
   ],
   "source": [
    "item = furniture_items_13[3]\n",
    "itemExX,itmeExY = item.exterior.xy\n",
    "x, y = (-1.449844750954127, -1.3776611332728979)\n",
    "shapeCoordinates = list(zip(*(itemExX,itmeExY)))\n",
    "(shapeX, shapeY) = shapeCoordinates[11]\n",
    "trans_shape = affinity.translate(item, x-shapeX, y-shapeY)\n",
    "rotated_trans_shape = affinity.rotate(trans_shape, 259.5604053764044, origin=(x, y))\n",
    "a,b = rotated_trans_shape.exterior.xy\n",
    "print(rotated_trans_shape.difference(room_11).area)\n",
    "coords = list(zip(*(a,b)))"
   ]
  },
  {
   "cell_type": "code",
   "execution_count": 37,
   "metadata": {},
   "outputs": [
    {
     "data": {
      "text/plain": [
       "'[(6.5503158452884236e-15, -5.773159728050814e-15), (-1.069337658795283, -0.32636937889791806), (-1.413752942113506, 0.0360918088406148), (-1.0332458499546617, 1.0873835632155942), (-2.1025835087499516, 0.7610141843176814), (-2.4469987920681744, 1.1234753720562152), (-2.0664916999093297, 2.1747671264311945), (-3.13582935870462, 1.8483977475332818), (-3.480244642022843, 2.2108589352718147), (-3.099737549863999, 3.262150689646795), (-4.893997584136356, 2.2469507441124357), (-1.4498447509541268, -1.3776611332728972), (6.5503158452884236e-15, -5.773159728050814e-15)]'"
      ]
     },
     "execution_count": 37,
     "metadata": {},
     "output_type": "execute_result"
    }
   ],
   "source": [
    "str(coords)"
   ]
  },
  {
   "cell_type": "code",
   "execution_count": 35,
   "metadata": {},
   "outputs": [
    {
     "ename": "TypeError",
     "evalue": "must be real number, not array.array",
     "output_type": "error",
     "traceback": [
      "\u001b[0;31m---------------------------------------------------------------------------\u001b[0m",
      "\u001b[0;31mTypeError\u001b[0m                                 Traceback (most recent call last)",
      "\u001b[0;32m<ipython-input-35-4bf121b33761>\u001b[0m in \u001b[0;36m<module>\u001b[0;34m()\u001b[0m\n\u001b[1;32m      2\u001b[0m \u001b[0;34m\u001b[0m\u001b[0m\n\u001b[1;32m      3\u001b[0m \u001b[0mx\u001b[0m \u001b[0;34m=\u001b[0m \u001b[0mtf\u001b[0m\u001b[0;34m.\u001b[0m\u001b[0mVariable\u001b[0m\u001b[0;34m(\u001b[0m\u001b[0mfloat\u001b[0m\u001b[0;34m(\u001b[0m\u001b[0;36m10.0\u001b[0m\u001b[0;34m)\u001b[0m\u001b[0;34m,\u001b[0m \u001b[0mtrainable\u001b[0m\u001b[0;34m=\u001b[0m\u001b[0;32mTrue\u001b[0m\u001b[0;34m)\u001b[0m\u001b[0;34m\u001b[0m\u001b[0m\n\u001b[0;32m----> 4\u001b[0;31m \u001b[0mf_a\u001b[0m \u001b[0;34m=\u001b[0m \u001b[0mfloat\u001b[0m\u001b[0;34m(\u001b[0m\u001b[0maffinity\u001b[0m\u001b[0;34m.\u001b[0m\u001b[0mrotate\u001b[0m\u001b[0;34m(\u001b[0m\u001b[0mtrans_shape\u001b[0m\u001b[0;34m,\u001b[0m \u001b[0ma\u001b[0m\u001b[0;34m,\u001b[0m \u001b[0morigin\u001b[0m\u001b[0;34m=\u001b[0m\u001b[0;34m(\u001b[0m\u001b[0mx\u001b[0m\u001b[0;34m,\u001b[0m \u001b[0my\u001b[0m\u001b[0;34m)\u001b[0m\u001b[0;34m,\u001b[0m \u001b[0muse_radians\u001b[0m\u001b[0;34m=\u001b[0m\u001b[0;32mTrue\u001b[0m\u001b[0;34m)\u001b[0m\u001b[0;34m.\u001b[0m\u001b[0mdifference\u001b[0m\u001b[0;34m(\u001b[0m\u001b[0mroom_11\u001b[0m\u001b[0;34m)\u001b[0m\u001b[0;34m.\u001b[0m\u001b[0marea\u001b[0m\u001b[0;34m)\u001b[0m\u001b[0;34m\u001b[0m\u001b[0m\n\u001b[0m\u001b[1;32m      5\u001b[0m \u001b[0;34m\u001b[0m\u001b[0m\n\u001b[1;32m      6\u001b[0m \u001b[0mloss\u001b[0m \u001b[0;34m=\u001b[0m \u001b[0mf_a\u001b[0m\u001b[0;34m\u001b[0m\u001b[0m\n",
      "\u001b[0;32m/Users/marigov/anaconda/lib/python3.6/site-packages/shapely/affinity.py\u001b[0m in \u001b[0;36mrotate\u001b[0;34m(geom, angle, origin, use_radians)\u001b[0m\n\u001b[1;32m    154\u001b[0m     \u001b[0;32mif\u001b[0m \u001b[0;32mnot\u001b[0m \u001b[0muse_radians\u001b[0m\u001b[0;34m:\u001b[0m  \u001b[0;31m# convert from degrees\u001b[0m\u001b[0;34m\u001b[0m\u001b[0m\n\u001b[1;32m    155\u001b[0m         \u001b[0mangle\u001b[0m \u001b[0;34m*=\u001b[0m \u001b[0mpi\u001b[0m\u001b[0;34m/\u001b[0m\u001b[0;36m180.0\u001b[0m\u001b[0;34m\u001b[0m\u001b[0m\n\u001b[0;32m--> 156\u001b[0;31m     \u001b[0mcosp\u001b[0m \u001b[0;34m=\u001b[0m \u001b[0mcos\u001b[0m\u001b[0;34m(\u001b[0m\u001b[0mangle\u001b[0m\u001b[0;34m)\u001b[0m\u001b[0;34m\u001b[0m\u001b[0m\n\u001b[0m\u001b[1;32m    157\u001b[0m     \u001b[0msinp\u001b[0m \u001b[0;34m=\u001b[0m \u001b[0msin\u001b[0m\u001b[0;34m(\u001b[0m\u001b[0mangle\u001b[0m\u001b[0;34m)\u001b[0m\u001b[0;34m\u001b[0m\u001b[0m\n\u001b[1;32m    158\u001b[0m     \u001b[0;32mif\u001b[0m \u001b[0mabs\u001b[0m\u001b[0;34m(\u001b[0m\u001b[0mcosp\u001b[0m\u001b[0;34m)\u001b[0m \u001b[0;34m<\u001b[0m \u001b[0;36m2.5e-16\u001b[0m\u001b[0;34m:\u001b[0m\u001b[0;34m\u001b[0m\u001b[0m\n",
      "\u001b[0;31mTypeError\u001b[0m: must be real number, not array.array"
     ]
    }
   ],
   "source": [
    "import tensorflow as tf\n",
    "\n",
    "x = tf.Variable(float(10.0), trainable=True)\n",
    "f_a = float(affinity.rotate(trans_shape, a, origin=(x, y), use_radians=True).difference(room_11).area)\n",
    "\n",
    "loss = f_a\n",
    "opt = tf.train.GradientDescentOptimizer(0.1).minimize(f_x)\n",
    "\n",
    "with tf.Session() as sess:\n",
    "    sess.run(tf.global_variables_initializer())\n",
    "    for i in range(100):\n",
    "        print(sess.run([a,loss]))\n",
    "        sess.run(opt)"
   ]
  },
  {
   "cell_type": "code",
   "execution_count": 54,
   "metadata": {},
   "outputs": [
    {
     "data": {
      "image/svg+xml": [
       "<svg xmlns=\"http://www.w3.org/2000/svg\" xmlns:xlink=\"http://www.w3.org/1999/xlink\" width=\"100.0\" height=\"100.0\" viewBox=\"-20.17280367411701 -10.864754219247832 19.772968383556385 20.025521619729112\" preserveAspectRatio=\"xMinYMin meet\"><g transform=\"matrix(1,0,0,-1,0,-1.703986818766552)\"><path fill-rule=\"evenodd\" fill=\"#66cc99\" stroke=\"#555555\" stroke-width=\"0.4005104323945822\" opacity=\"0.6\" d=\"M -15.08889668642394,3.9482917599290186 L -14.13824778393724,3.6380230631501846 L -13.675914909827517,4.524729504717767 L -12.789208468259934,4.06239663060804 L -14.176207090589111,1.4022773059052975 L -13.289500649021527,0.9399444317955751 L -12.687684670180998,1.7385792216790454 L -13.376515236817447,2.4635015971561045 L -12.651592861340383,3.152332163792555 L -11.962762294703934,2.427409788315488 L -11.100184032955614,3.0108767383330606 L -12.781029376185478,5.495782960334705 L -11.952727302184936,6.056064741411327 L -11.392445521108312,5.227762667410778 L -10.564143447107767,5.7880444484873985 L -11.96484789979932,7.858799633488772 L -11.13654582579878,8.419081414565387 L -11.270555972260741,7.724789487026804 L -10.430133300645801,6.48233637602599 L -9.735841373107217,6.3483262295640275 L -8.907539299106672,6.908608010640645 L -8.347257518030048,6.0803059366401 L -10.832163740031689,4.399460593410231 L -10.271881958955067,3.571158519409684 L -9.44357988495452,4.131440300486308 L -11.273931728067485,1.702487412838431 L -10.585101161431037,0.9775650373613595 L -9.860178785953973,1.6663956039978147 L -10.549009352590424,2.391317979474874 L -9.824086977113359,3.080148546111327 L -9.13525641047691,2.3552261706342583 L -7.322950471784252,4.077302587225383 L -6.634119905147803,3.3523802117483203 L -7.340996376204558,3.370426116168628 L -8.428379939420152,2.337180266213956 L -8.44642584384046,1.6303037951571997 L -7.75759527720401,0.9053814196801376 L -7.032672901726948,1.5942119863165825 L -7.721503468363395,2.3191343617936506 L -6.996581092886333,3.0079649284300976 L -6.307750526249887,2.2830425529530354 L -5.6189199596134385,1.558120177475971 L -5.782104649062396,2.092789006873615 L -5.60087405519313,2.2649966485327266 L -5.600874055193129,2.264996648532726 L -5.782104649062394,2.0927890068736144 L -5.618919959613436,1.5581201774759708 L -4.930089392976987,0.8331978019989074 L -4.205167017499924,1.5220283686353557 L -4.893997584136372,2.2469507441124192 L -4.893997584136351,2.246950744112431 L -1.4498447509541268,-1.3776611332728972 L -1.4135986321802751,-1.3432196049410767 L -1.449844750954127,-1.3776611332728979 L -2.138675317590576,-0.6527387577958345 L -2.8635976930676392,-1.3415693244322837 L -1.141521276476517,-3.1538752631249425 L -1.8664436519535805,-3.8427058297613907 L -1.8483977475332731,-3.1358293587046346 L -2.881643597487947,-2.0484457954890396 L -3.588520068544703,-2.030399891068732 L -4.313442444021765,-2.7192304577051827 L -5.0022730106582145,-1.9943080822281178 L -2.827505884227025,0.07218361768122893 L -3.516336450863474,0.7971059931582912 L -5.6911035772946645,-1.2693857067510552 L -6.379934143931114,-0.5444633312739926 L -5.65501176845405,0.14436723536245785 L -6.343842335090499,0.8692896108395227 L -7.068764710567562,0.18045904420307232 L -5.364734198396749,-2.3387233655463393 L -7.793687086044625,-0.5083715224333717 L -8.518609461521688,-1.1972020890698263 L -9.207440028158137,-0.47227971359276094 L -8.482517652681073,0.21655085304368674 L -9.171348219317524,0.9414732285207489 L -9.896270594794586,0.25264266188430123 L -8.192240082623773,-2.266539747865112 L -9.023923390504713,-1.6398198624332128 L -9.625739369345245,-2.4384546523166817 L -7.229834999694836,-4.243902588838276 L -7.831650978535371,-5.042537378721742 L -8.63028576841884,-4.44072139988121 L -9.23210174725937,-5.239356189764685 L -8.514766500302128,-5.994276770273886 L -6.339999373870939,-3.927785070364536 L -5.651168807234488,-4.652707445841602 L -7.82593593366568,-6.719199145750949 L -7.137105367029231,-7.444121521228012 L -8.060504842964743,-6.9626567278676 L -8.52283771707447,-7.849363169435181 L -7.636131275506887,-8.311696043544908 L -5.805779432393925,-5.8827431558970265 L -6.128887440381635,-6.872731112681235 L -5.178238537894936,-7.182999809460074 L -4.247432447558425,-4.331053101999981 L -3.296783545071727,-4.641321798778819 L -4.227589635408236,-7.493268506238913 L -3.276940732921539,-7.803537203017749 L -3.5872094297003763,-8.754186105504447 L -6.439156137160468,-7.823380015167936 L -6.749424833939304,-8.774028917654633 L -5.862718392371731,-9.236361791764356 L -6.325051266481455,-10.123068233331939 L -8.985170591184197,-8.736069611002758 L -9.44750346529392,-9.622776052570341 L -10.334209906861497,-9.160443178460616 L -8.947211284532326,-6.500323853757871 L -9.833917726099905,-6.037990979648148 L -10.435733704940438,-6.836625769531615 L -11.234368494823903,-6.234809790691084 L -10.632552515983372,-5.436175000807611 L -12.629139490692042,-3.931635053706288 L -12.027323511851511,-3.133000263822816 L -11.928914106330042,-3.8332256481848184 L -10.73096192150484,-4.735949616445615 L -10.030736537142838,-4.63754021092415 L -9.428920558302307,-3.838905421040679 L -10.227555348185778,-3.2370894422001464 L -10.829371327026308,-4.0357242320836155 L -11.628006116909777,-3.4339082532430867 L -9.822558180388182,-1.0380038835926813 L -10.62119297027165,-0.436187904752152 L -11.346115345748714,-1.1250184713885896 L -12.034945912385163,-0.4000960959115342 L -11.3100235369081,0.2887344707249157 L -11.998854103544549,1.0136568462019802 L -12.86143236529287,0.4301898961844088 L -11.180587022063001,-2.0547163258172345 L -12.008889096063552,-2.614998106893856 L -13.689734439293417,-0.13009188489221782 L -14.518036513293964,-0.6903736659688408 L -13.89131662786206,0.14130964191210144 L -14.608651874819303,0.8962302224213068 L -16.783419001250497,-1.1702614774880462 L -17.472249567886948,-0.44533910201097865 L -15.297482441455752,1.621152597898372 L -15.986313008092202,2.3460749733754294 L -15.062913532156688,1.864610180015027 L -14.600580658046963,2.7513166215826073 L -15.432263965927907,3.37803650701451 L -17.2377119024495,0.9821321373640957 L -18.036346692332973,1.5839481162046272 L -17.43453071349244,2.3825829060880936 L -19.431117688201116,3.8871228531894197 L -18.82930170936058,4.685757643072894 L -18.730892303839113,3.9855322587109 L -17.532940119013908,3.082808290450097 L -16.832714734651905,3.1812176959715712 L -16.230898755811374,3.9798524858550444 L -17.029533545694846,4.581668464695567 L -16.039545588910634,4.258560456707853 L -15.08889668642394,3.9482917599290186 z\" /></g></svg>"
      ],
      "text/plain": [
       "<shapely.geometry.polygon.Polygon at 0x116233b00>"
      ]
     },
     "execution_count": 54,
     "metadata": {},
     "output_type": "execute_result"
    }
   ],
   "source": [
    "shape1 = Polygon([(-15.08889668642394, 3.9482917599290186), (-15.486653963472579, 4.34108833394011), (-15.409086789277868, 4.578750559561785), (-14.85619516383981, 4.661278436794042), (-15.253952440888451, 5.054075010805132), (-15.176385266693742, 5.291737236426808), (-14.623493641255685, 5.374265113659066), (-15.021250918304325, 5.7670616876701555), (-14.943683744109617, 6.00472391329183), (-14.390792118671559, 6.087251790524089), (-15.263873846963548, 6.635182712924596), (-16.039545588910634, 4.258560456707853)\n",
    "])\n",
    "shape2 = Polygon([(-5.6189199596134385, 1.558120177475971), (-5.782104649062396, 2.092789006873615), (-5.60087405519313, 2.2649966485327266), (-5.07522817800564, 2.074743102453306), (-5.238412867454597, 2.609411931850952), (-5.057182273585332, 2.781619573510064), (-4.531536396397843, 2.591366027430643), (-4.6947210858468, 3.1260348568282867), (-4.513490491977533, 3.2982424984873995), (-3.9878446147900437, 3.1079889524079785), (-4.495444587557226, 4.0051189695441565), (-6.307750526249887, 2.2830425529530354)\n",
    "])\n",
    "shape3 = Polygon([(6.5503158452884236e-15, -5.773159728050814e-15), (-1.069337658795283, -0.32636937889791806), (-1.413752942113506, 0.0360918088406148), (-1.0332458499546617, 1.0873835632155942), (-2.1025835087499516, 0.7610141843176814), (-2.4469987920681744, 1.1234753720562152), (-2.0664916999093297, 2.1747671264311945), (-3.13582935870462, 1.8483977475332818), (-3.480244642022843, 2.2108589352718147), (-3.099737549863999, 3.262150689646795), (-4.893997584136356, 2.2469507441124357), (-1.4498447509541268, -1.3776611332728972)])\n",
    "\n",
    "multipolygon = room_11.difference(shape1).difference(shape2).difference(shape3)\n",
    "real_room = multipolygon[0]\n",
    "real_room"
   ]
  },
  {
   "cell_type": "code",
   "execution_count": null,
   "metadata": {},
   "outputs": [
    {
     "name": "stdout",
     "output_type": "stream",
     "text": [
      "499 81.00000000000007\n",
      "498 79.50000000000007\n",
      "497 78.00000000000007\n",
      "496 76.50000000000007\n",
      "495 75.00000000000007\n",
      "494 74.00000000000007\n",
      "493 73.00000000000007\n",
      "492 72.00000000000007\n",
      "491 71.00000000000007\n",
      "490 70.00000000000007\n",
      "489 69.00000000000007\n"
     ]
    }
   ],
   "source": [
    "solution = []\n",
    "room_2 = problems[10].room.polygon\n",
    "shapes = copy.copy(problems[10].furniture)\n",
    "initial_area = room_2.area\n",
    "room_2 = real_room\n",
    "while (room_2.area) > initial_area*0.7:\n",
    "    while(room_2.area > 76):\n",
    "        for j in shapes:\n",
    "            x,y = j.polygon.exterior.xy\n",
    "            if len(x) == 4:\n",
    "                points = random_points_within(room_2,1)[0]\n",
    "                polygon = affinity.translate(j.polygon, points.x, points.y)\n",
    "                polygon = affinity.rotate(polygon, random.uniform(0,180),origin=\"centroid\")\n",
    "                if room_2.contains(polygon):\n",
    "                    room_2 = room_2.difference(polygon)\n",
    "                    x,y = polygon.exterior.xy\n",
    "                    solution.append(list(zip(*(x,y))))\n",
    "                    shapes.remove(j)\n",
    "                    print(len(shapes), (room_2.area))\n",
    "\n",
    "    for j in shapes:\n",
    "            x,y = j.polygon.exterior.xy\n",
    "            if len(x) == 4 or len(x)==5:\n",
    "                points = random_points_within(room_2,1)[0]\n",
    "                polygon = affinity.translate(j.polygon, points.x, points.y)\n",
    "                polygon = affinity.rotate(polygon, random.uniform(0,180),origin=\"centroid\")\n",
    "                if room_2.contains(polygon):\n",
    "                    room_2 = room_2.difference(polygon)\n",
    "                    x,y = polygon.exterior.xy\n",
    "                    solution.append(list(zip(*(x,y))))\n",
    "                    shapes.remove(j)\n",
    "                    print(len(shapes), (room_2.area))\n",
    "room_2.area"
   ]
  },
  {
   "cell_type": "code",
   "execution_count": null,
   "metadata": {
    "collapsed": true
   },
   "outputs": [],
   "source": []
  }
 ],
 "metadata": {
  "kernelspec": {
   "display_name": "Python [conda root]",
   "language": "python",
   "name": "conda-root-py"
  },
  "language_info": {
   "codemirror_mode": {
    "name": "ipython",
    "version": 3
   },
   "file_extension": ".py",
   "mimetype": "text/x-python",
   "name": "python",
   "nbconvert_exporter": "python",
   "pygments_lexer": "ipython3",
   "version": "3.6.1"
  }
 },
 "nbformat": 4,
 "nbformat_minor": 2
}

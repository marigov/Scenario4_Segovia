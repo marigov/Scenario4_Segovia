{
 "cells": [
  {
   "cell_type": "code",
   "execution_count": 114,
   "metadata": {
    "collapsed": true
   },
   "outputs": [],
   "source": [
    "class Room():\n",
    "    shape = [] \n",
    "\n",
    "    def __init__(self, shape):\n",
    "        self.shape = shape"
   ]
  },
  {
   "cell_type": "code",
   "execution_count": 115,
   "metadata": {
    "collapsed": true
   },
   "outputs": [],
   "source": [
    "class FurnitureItem():\n",
    "    unitcost = 0\n",
    "    shape = []\n",
    "    \n",
    "    def __init__(self, unitcost, shape):\n",
    "        self.unit_cost = unitcost\n",
    "        self.shape = shape"
   ]
  },
  {
   "cell_type": "code",
   "execution_count": 116,
   "metadata": {},
   "outputs": [],
   "source": [
    "class Problem():\n",
    "    def __init__(self, room, furniture):\n",
    "        self.room = room\n",
    "        self.furniture = furniture"
   ]
  },
  {
   "cell_type": "code",
   "execution_count": 117,
   "metadata": {
    "collapsed": true
   },
   "outputs": [],
   "source": [
    "problems = []"
   ]
  },
  {
   "cell_type": "code",
   "execution_count": 118,
   "metadata": {},
   "outputs": [],
   "source": [
    "with open('problems.rfp') as f:\n",
    "  for line in f:\n",
    "    furnitureList = []\n",
    "    problem = line.replace(\" \",\"\").split(\"#\")\n",
    "    room_shape = problem[0][2:]\n",
    "    furniture = problem[1].split(\";\")\n",
    "    room = Room(room_shape)\n",
    "    for furnitureItem in furniture:\n",
    "        parse_furniture = furnitureItem.split(\":\")\n",
    "        unit_cost = parse_furniture[0]\n",
    "        shape = parse_furniture[1]\n",
    "        furnitureItem = FurnitureItem(unit_cost, shape)\n",
    "        furnitureList.append(furnitureItem)\n",
    "    problems.append(Problem(roomObject,furnitureList))"
   ]
  },
  {
   "cell_type": "code",
   "execution_count": null,
   "metadata": {
    "collapsed": true
   },
   "outputs": [],
   "source": []
  }
 ],
 "metadata": {
  "kernelspec": {
   "display_name": "Python [conda root]",
   "language": "python",
   "name": "conda-root-py"
  },
  "language_info": {
   "codemirror_mode": {
    "name": "ipython",
    "version": 3
   },
   "file_extension": ".py",
   "mimetype": "text/x-python",
   "name": "python",
   "nbconvert_exporter": "python",
   "pygments_lexer": "ipython3",
   "version": "3.6.1"
  }
 },
 "nbformat": 4,
 "nbformat_minor": 2
}

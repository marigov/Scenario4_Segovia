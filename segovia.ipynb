{
 "cells": [
  {
   "cell_type": "code",
   "execution_count": 2,
   "metadata": {
    "collapsed": true
   },
   "outputs": [],
   "source": [
    "import numpy as np\n",
    "import copy\n",
    "from shapely.geometry.polygon import LinearRing, Polygon, LineString\n",
    "from shapely.geometry.multipolygon import MultiPolygon\n",
    "from shapely.ops import cascaded_union\n",
    "from shapely.geometry import Point\n",
    "import random\n",
    "from shapely import affinity\n",
    "import matplotlib.pyplot as plt\n",
    "import time\n",
    "from scipy import optimize\n"
   ]
  },
  {
   "cell_type": "code",
   "execution_count": 3,
   "metadata": {
    "collapsed": true
   },
   "outputs": [],
   "source": [
    "# Problems data structures\n",
    "\n",
    "class Room():\n",
    "    def __init__(self, shape):\n",
    "        self.shape = shape\n",
    "        self.polygon = Polygon(np.array(shape, dtype=np.float64))\n",
    "\n",
    "class FurnitureItem():\n",
    "    def __init__(self, unitcost, shape):\n",
    "        self.shape = shape\n",
    "        self.unit_cost = unitcost\n",
    "        self.polygon = Polygon(np.array(shape, dtype=np.float64))\n",
    "        self.total_cost = np.float64((np.float64(self.unit_cost) * self.polygon.area))\n",
    "        self.sorting = (self.polygon, self.polygon.area)\n",
    "\n",
    "class Problem():\n",
    "    def __init__(self, room, furniture):\n",
    "        self.room = room\n",
    "        self.furniture = furniture"
   ]
  },
  {
   "cell_type": "code",
   "execution_count": 4,
   "metadata": {
    "collapsed": true
   },
   "outputs": [],
   "source": [
    "# Parsing from problems files input\n",
    "\n",
    "problems = []\n",
    "with open('problems.rfp') as f:\n",
    "    for line in f:\n",
    "        furnitureList = []\n",
    "        problem = line.replace(\" \",\"\").split(\"#\")\n",
    "\n",
    "        room_shape = problem[0].split(\":\")[1]\n",
    "        furniture = problem[1].split(\";\")\n",
    "\n",
    "        room = Room([tuple(np.float64(i) for i in el.strip('()').split(',')) for el in room_shape.split('),(')])\n",
    "\n",
    "        for furnitureItem in furniture:\n",
    "            parse_furniture = furnitureItem.strip().split(\":\")\n",
    "            unit_cost = parse_furniture[0]\n",
    "            shape = [tuple(np.float64(i) for i in el.strip('()').split(',')) for el in parse_furniture[1].split('),(')]\n",
    "            furnitureItem = FurnitureItem(unit_cost, shape)\n",
    "            furnitureList.append(furnitureItem)\n",
    "        problems.append(Problem(room,furnitureList))"
   ]
  },
  {
   "cell_type": "code",
   "execution_count": 258,
   "metadata": {
    "collapsed": true
   },
   "outputs": [],
   "source": [
    "def random_points_within(poly, num_points):\n",
    "    min_x, min_y, max_x, max_y = poly.bounds\n",
    "    points = []\n",
    "    while len(points) < num_points:\n",
    "        random_point = Point([random.uniform(min_x, max_x), random.uniform(min_y, max_y)])\n",
    "        if (random_point.within(poly)):\n",
    "            points.append(random_point)\n",
    "    return points"
   ]
  },
  {
   "cell_type": "code",
   "execution_count": 259,
   "metadata": {
    "collapsed": true
   },
   "outputs": [],
   "source": [
    "def get_output(solution):\n",
    "    output = \"\"\n",
    "    for x in solution:\n",
    "        output = output + str(x[:-1]).replace('[','').replace(']','') + \"; \"\n",
    "    return output"
   ]
  },
  {
   "cell_type": "markdown",
   "metadata": {},
   "source": [
    "### Room 11"
   ]
  },
  {
   "cell_type": "code",
   "execution_count": 260,
   "metadata": {
    "collapsed": true
   },
   "outputs": [],
   "source": [
    "# Set up specific shapes for map 11\n",
    "\n",
    "base_room_11 = problems[10].room.polygon\n",
    "f_items_11_vertices_13 = []\n",
    "\n",
    "for item in problems[10].furniture:\n",
    "    x,y = item.polygon.exterior.xy\n",
    "    if(len(x)==13):\n",
    "        f_items_11_vertices_13.append(item.polygon)\n",
    "        \n",
    "shape1 = Polygon([(-15.08889668642394, 3.9482917599290186), (-15.486653963472579, 4.34108833394011), (-15.409086789277868, 4.578750559561785), (-14.85619516383981, 4.661278436794042), (-15.253952440888451, 5.054075010805132), (-15.176385266693742, 5.291737236426808), (-14.623493641255685, 5.374265113659066), (-15.021250918304325, 5.7670616876701555), (-14.943683744109617, 6.00472391329183), (-14.390792118671559, 6.087251790524089), (-15.263873846963548, 6.635182712924596), (-16.039545588910634, 4.258560456707853)\n",
    "])\n",
    "shape2 = Polygon([(-5.6189199596134385, 1.558120177475971), (-5.782104649062396, 2.092789006873615), (-5.60087405519313, 2.2649966485327266), (-5.07522817800564, 2.074743102453306), (-5.238412867454597, 2.609411931850952), (-5.057182273585332, 2.781619573510064), (-4.531536396397843, 2.591366027430643), (-4.6947210858468, 3.1260348568282867), (-4.513490491977533, 3.2982424984873995), (-3.9878446147900437, 3.1079889524079785), (-4.495444587557226, 4.0051189695441565), (-6.307750526249887, 2.2830425529530354)\n",
    "])\n",
    "shape3 = Polygon([(6.5503158452884236e-15, -5.773159728050814e-15), (-1.069337658795283, -0.32636937889791806), (-1.413752942113506, 0.0360918088406148), (-1.0332458499546617, 1.0873835632155942), (-2.1025835087499516, 0.7610141843176814), (-2.4469987920681744, 1.1234753720562152), (-2.0664916999093297, 2.1747671264311945), (-3.13582935870462, 1.8483977475332818), (-3.480244642022843, 2.2108589352718147), (-3.099737549863999, 3.262150689646795), (-4.893997584136356, 2.2469507441124357), (-1.4498447509541268, -1.3776611332728972)])\n",
    "\n",
    "multipolygon = base_room_11.difference(shape1).difference(shape2).difference(shape3)\n",
    "modified_room_11 = multipolygon[0]"
   ]
  },
  {
   "cell_type": "code",
   "execution_count": 261,
   "metadata": {},
   "outputs": [
    {
     "ename": "NameError",
     "evalue": "name 'room_11' is not defined",
     "output_type": "error",
     "traceback": [
      "\u001b[0;31m---------------------------------------------------------------------------\u001b[0m",
      "\u001b[0;31mNameError\u001b[0m                                 Traceback (most recent call last)",
      "\u001b[0;32m<ipython-input-261-2728da290a20>\u001b[0m in \u001b[0;36m<module>\u001b[0;34m()\u001b[0m\n\u001b[1;32m      7\u001b[0m \u001b[0msolution\u001b[0m \u001b[0;34m=\u001b[0m \u001b[0;34m[\u001b[0m\u001b[0;34m]\u001b[0m\u001b[0;34m\u001b[0m\u001b[0m\n\u001b[1;32m      8\u001b[0m \u001b[0mshapes\u001b[0m \u001b[0;34m=\u001b[0m \u001b[0mcopy\u001b[0m\u001b[0;34m.\u001b[0m\u001b[0mcopy\u001b[0m\u001b[0;34m(\u001b[0m\u001b[0mproblems\u001b[0m\u001b[0;34m[\u001b[0m\u001b[0;36m10\u001b[0m\u001b[0;34m]\u001b[0m\u001b[0;34m.\u001b[0m\u001b[0mfurniture\u001b[0m\u001b[0;34m)\u001b[0m\u001b[0;34m\u001b[0m\u001b[0m\n\u001b[0;32m----> 9\u001b[0;31m \u001b[0minitial_area\u001b[0m \u001b[0;34m=\u001b[0m \u001b[0mroom_11\u001b[0m\u001b[0;34m.\u001b[0m\u001b[0marea\u001b[0m\u001b[0;34m\u001b[0m\u001b[0m\n\u001b[0m\u001b[1;32m     10\u001b[0m \u001b[0mupdatable_room\u001b[0m \u001b[0;34m=\u001b[0m \u001b[0mmodified_room_11\u001b[0m\u001b[0;34m\u001b[0m\u001b[0m\n\u001b[1;32m     11\u001b[0m \u001b[0;32mwhile\u001b[0m \u001b[0;34m(\u001b[0m\u001b[0mupdatable_room\u001b[0m\u001b[0;34m.\u001b[0m\u001b[0marea\u001b[0m\u001b[0;34m)\u001b[0m \u001b[0;34m>\u001b[0m \u001b[0minitial_area\u001b[0m\u001b[0;34m*\u001b[0m\u001b[0;36m0.7\u001b[0m\u001b[0;34m:\u001b[0m\u001b[0;34m\u001b[0m\u001b[0m\n",
      "\u001b[0;31mNameError\u001b[0m: name 'room_11' is not defined"
     ]
    },
    {
     "data": {
      "image/png": "[encoded data removed]",
      "text/plain": [
       "<matplotlib.figure.Figure at 0x105b103c8>"
      ]
     },
     "metadata": {},
     "output_type": "display_data"
    }
   ],
   "source": [
    "# Algorithm Room 11\n",
    "\n",
    "# Plotting room\n",
    "roomX,roomY = problems[10].room.polygon.exterior.xy\n",
    "plt.plot(roomX, roomY, color='#6699cc', alpha=0.7, linewidth=3, solid_capstyle='round', zorder=2)\n",
    "\n",
    "solution = []\n",
    "shapes = copy.copy(problems[10].furniture)\n",
    "initial_area = room_11.area\n",
    "updatable_room = modified_room_11\n",
    "while (updatable_room.area) > initial_area*0.7:\n",
    "    while(updatable_room.area > 76):\n",
    "        for j in shapes:\n",
    "            x,y = j.polygon.exterior.xy\n",
    "            if len(x) == 4:\n",
    "                points = random_points_within(updatable_room,1)[0]\n",
    "                polygon = affinity.translate(j.polygon, points.x, points.y)\n",
    "                polygon = affinity.rotate(polygon, random.uniform(0,180),origin=\"centroid\")\n",
    "                if updatable_room.contains(polygon):\n",
    "                    updatable_room = updatable_room.difference(polygon)\n",
    "                    x,y = polygon.exterior.xy\n",
    "                    solution.append(list(zip(*(x,y))))\n",
    "                    shapes.remove(j)\n",
    "                    print(len(shapes), (updatable_room.area))\n",
    "                    \n",
    "                    plt.plot(x, y, color='#e50000', alpha=0.7, linewidth=3, solid_capstyle='round', zorder=2)\n",
    "                    display.display(plt.gcf())\n",
    "                    display.clear_output(wait=True)\n",
    "\n",
    "    for j in shapes:\n",
    "            x,y = j.polygon.exterior.xy\n",
    "            if len(x) == 4 or len(x)==5:\n",
    "                points = random_points_within(updatable_room,1)[0]\n",
    "                polygon = affinity.translate(j.polygon, points.x, points.y)\n",
    "                polygon = affinity.rotate(polygon, random.uniform(0,180),origin=\"centroid\")\n",
    "                if updatable_room.contains(polygon):\n",
    "                    updatable_room = updatable_room.difference(polygon)\n",
    "                    x,y = polygon.exterior.xy\n",
    "                    solution.append(list(zip(*(x,y))))\n",
    "                    shapes.remove(j)\n",
    "                    print(len(shapes), (updatable_room.area))\n",
    "                    \n",
    "                    plt.plot(x, y, color='#e50000', alpha=0.7, linewidth=3, solid_capstyle='round', zorder=2)\n",
    "                    display.display(plt.gcf())\n",
    "                    display.clear_output(wait=True)\n",
    "\n",
    "\n",
    "updatable_room.area"
   ]
  },
  {
   "cell_type": "code",
   "execution_count": null,
   "metadata": {
    "collapsed": true
   },
   "outputs": [],
   "source": [
    "print(get_output(solution))"
   ]
  },
  {
   "cell_type": "code",
   "execution_count": null,
   "metadata": {
    "collapsed": true,
    "scrolled": false
   },
   "outputs": [],
   "source": [
    "%matplotlib inline\n",
    "import pandas as pd\n",
    "from IPython import display\n",
    "\n",
    "roomX,roomY = problems[10].room.polygon.exterior.xy\n",
    "x, y = (-1.449844750954127, -1.3776611332728979)\n",
    "z= 0\n",
    "item = furniture_items_13[3]\n",
    "print(z)\n",
    "itemExX,itmeExY = item.exterior.xy\n",
    "shapeCoordinates = list(zip(*(itemExX,itmeExY)))\n",
    "(shapeX, shapeY) = shapeCoordinates[11]\n",
    "trans_shape = affinity.translate(item, x-shapeX, y-shapeY)\n",
    "for i in range(250,300):\n",
    "    rotated_trans_shape = affinity.rotate(trans_shape, i, origin=(x, y))\n",
    "    sX,sY = rotated_trans_shape.exterior.xy  \n",
    "    plt.plot(roomX, roomY, color='#6699cc', alpha=0.7, linewidth=3, solid_capstyle='round', zorder=2)\n",
    "    plt.plot(sX, sY, color='#6699cc', alpha=0.7, linewidth=3, solid_capstyle='round', zorder=2)\n",
    "    display.display(plt.gcf())\n",
    "    display.display(plt.clf())\n",
    "    display.clear_output(wait=True)\n",
    "    time.sleep(0.0001)                "
   ]
  },
  {
   "cell_type": "code",
   "execution_count": null,
   "metadata": {
    "collapsed": true
   },
   "outputs": [],
   "source": [
    "item = furniture_items_13[3]\n",
    "itemExX,itmeExY = item.exterior.xy\n",
    "x, y = (-1.449844750954127, -1.3776611332728979)\n",
    "shapeCoordinates = list(zip(*(itemExX,itmeExY)))\n",
    "(shapeX, shapeY) = shapeCoordinates[11]\n",
    "trans_shape = affinity.translate(item, x-shapeX, y-shapeY)\n",
    "rotated_trans_shape = affinity.rotate(trans_shape, 259.5604053764044, origin=(x, y))\n",
    "a,b = rotated_trans_shape.exterior.xy\n",
    "print(rotated_trans_shape.difference(room_11).area)\n",
    "coords = list(zip(*(a,b)))\n",
    "str(coords)"
   ]
  },
  {
   "cell_type": "code",
   "execution_count": null,
   "metadata": {
    "collapsed": true
   },
   "outputs": [],
   "source": [
    "from scipy.optimize import fmin \n",
    "from scipy import optimize\n",
    "\n",
    "def f(angle):\n",
    "    return affinity.rotate(new_translated_shape, angle, origin=(room_vertice_x, room_vertice_y)).difference(updatable_room).area"
   ]
  },
  {
   "cell_type": "code",
   "execution_count": null,
   "metadata": {
    "collapsed": true
   },
   "outputs": [],
   "source": [
    "# Algorithm Room 1\n",
    "\n",
    "# Plotting room\n",
    "roomX,roomY = problems[0].room.polygon.exterior.xy\n",
    "#plt.plot(roomX, roomY, color='#6699cc', alpha=0.7, linewidth=3, solid_capstyle='round', zorder=2)\n",
    "\n",
    "solution = []\n",
    "room_0 = problems[0].room.polygon\n",
    "shapes = copy.copy(problems[0].furniture)\n",
    "initial_area = room_0.area\n",
    "updatable_room = room_0\n",
    "tolerance = 10\n",
    "\n",
    "sorted_shapes = []\n",
    "\n",
    "for shape in shapes:\n",
    "    sorted_shapes.append((shape, shape.total_cost))\n",
    "\n",
    "sorted_shapes = sorted(sorted_shapes, key=lambda x: x[1], reverse=True)\n",
    "bestShape, _ = sorted_shapes[0]\n",
    " \n",
    "#while (updatable_room.area) > initial_area*0.7:\n",
    "room_vertices = list(zip(*updatable_room.exterior.xy))\n",
    "z = 0\n",
    "for shape, _ in sorted_shapes:\n",
    "    for (room_vertice_x,room_vertice_y) in room_vertices:\n",
    "        translated_shape = affinity.translate(shape.polygon,room_vertice_x, room_vertice_y)\n",
    "        shape_coordinates = list(zip(*translated_shape.exterior.xy))\n",
    "        for shape_x, shape_y in shape_coordinates:\n",
    "            new_translated_shape = affinity.translate(translated_shape,room_vertice_x-shape_x, room_vertice_y-shape_y)\n",
    "            angle = np.float64(360) + optimize.minimize_scalar(f, bounds=(0,360), method='golden', options={'xtol': 1e-15}).x \n",
    "            new_rotated_shape = affinity.rotate(new_translated_shape, angle, origin=(room_vertice_x, room_vertice_y))\n",
    "            if (updatable_room.difference(new_rotated_shape).area == updatable_room.area-new_rotated_shape.area):\n",
    "                x,y = new_rotated_shape.exterior.xy\n",
    "                new_updatable_room = Polygon()\n",
    "                new_rotated_shape_scaled = affinity.scale(new_rotated_shape,0.9899999, 0.98999999,origin=(room_vertice_x-shape_x, room_vertice_y-shape_y))\n",
    "                room_to_check = updatable_room.difference(new_rotated_shape_scaled)\n",
    "                \n",
    "                new_room_to_check = Polygon()\n",
    "                \n",
    "                if(room_to_check.geom_type == 'MultiPolygon'):\n",
    "                    for poly in room_to_check:\n",
    "                        new_room_to_check.union(poly) \n",
    "                else: \n",
    "                    new_room_to_check = room_to_check\n",
    "                    \n",
    "                #print(\"Heeeeeey\", type(new_room_to_check))\n",
    "                if(new_room_to_check.area > 0.0000001):\n",
    "                    print(z)\n",
    "                    z = z + 1\n",
    "                    updatedRoomX, updatedRoomY = new_room_to_check.exterior.xy\n",
    "                    '''\n",
    "                    plt.plot(updatedRoomX, updatedRoomY, color='#6699cc', alpha=0.7, linewidth=3, solid_capstyle='round', zorder=2)\n",
    "                    #plt.plot(x, y, color='#e50000', alpha=0.7, linewidth=3, solid_capstyle='round', zorder=2)\n",
    "                    display.display(plt.gcf())\n",
    "                    display.display(plt.clf())\n",
    "                    display.clear_output(wait=True)\n",
    "                    time.sleep(0.0001)\n",
    "                    '''\n",
    "                \n",
    "                \n"
   ]
  },
  {
   "cell_type": "code",
   "execution_count": 262,
   "metadata": {},
   "outputs": [
    {
     "ename": "NameError",
     "evalue": "name 'room_vertices' is not defined",
     "output_type": "error",
     "traceback": [
      "\u001b[0;31m---------------------------------------------------------------------------\u001b[0m",
      "\u001b[0;31mNameError\u001b[0m                                 Traceback (most recent call last)",
      "\u001b[0;32m<ipython-input-262-fd32b5b02ded>\u001b[0m in \u001b[0;36m<module>\u001b[0;34m()\u001b[0m\n\u001b[0;32m----> 1\u001b[0;31m \u001b[0;32mfor\u001b[0m \u001b[0;34m(\u001b[0m\u001b[0mroom_vertice_x\u001b[0m\u001b[0;34m,\u001b[0m\u001b[0mroom_vertice_y\u001b[0m\u001b[0;34m)\u001b[0m \u001b[0;32min\u001b[0m \u001b[0mroom_vertices\u001b[0m\u001b[0;34m:\u001b[0m\u001b[0;34m\u001b[0m\u001b[0m\n\u001b[0m\u001b[1;32m      2\u001b[0m     \u001b[0mtranslated_shape\u001b[0m \u001b[0;34m=\u001b[0m \u001b[0maffinity\u001b[0m\u001b[0;34m.\u001b[0m\u001b[0mtranslate\u001b[0m\u001b[0;34m(\u001b[0m\u001b[0mbestShape\u001b[0m\u001b[0;34m.\u001b[0m\u001b[0mpolygon\u001b[0m\u001b[0;34m,\u001b[0m\u001b[0mroom_vertice_x\u001b[0m\u001b[0;34m,\u001b[0m \u001b[0mroom_vertice_x\u001b[0m\u001b[0;34m)\u001b[0m\u001b[0;34m\u001b[0m\u001b[0m\n\u001b[1;32m      3\u001b[0m     \u001b[0mupdatable_room\u001b[0m \u001b[0;34m=\u001b[0m \u001b[0mupdatable_room\u001b[0m\u001b[0;34m.\u001b[0m\u001b[0mdifference\u001b[0m\u001b[0;34m(\u001b[0m\u001b[0mtranslated_shape\u001b[0m\u001b[0;34m)\u001b[0m\u001b[0;34m\u001b[0m\u001b[0m\n\u001b[1;32m      4\u001b[0m     \u001b[0mprint\u001b[0m\u001b[0;34m(\u001b[0m\u001b[0mroom_vertice_x\u001b[0m\u001b[0;34m,\u001b[0m \u001b[0mroom_vertice_y\u001b[0m\u001b[0;34m)\u001b[0m\u001b[0;34m\u001b[0m\u001b[0m\n\u001b[1;32m      5\u001b[0m     '''\n",
      "\u001b[0;31mNameError\u001b[0m: name 'room_vertices' is not defined"
     ]
    }
   ],
   "source": [
    "for (room_vertice_x,room_vertice_y) in room_vertices:\n",
    "    translated_shape = affinity.translate(bestShape.polygon,room_vertice_x, room_vertice_x)\n",
    "    updatable_room = updatable_room.difference(translated_shape)\n",
    "    print(room_vertice_x, room_vertice_y)\n",
    "    '''\n",
    "    x,y = translated_shape.exterior.xy                    \n",
    "    plt.plot(roomX, roomY, color='#6699cc', alpha=0.7, linewidth=3, solid_capstyle='round', zorder=2)\n",
    "    plt.plot(x, y, color='#e50000', alpha=0.7, linewidth=3, solid_capstyle='round', zorder=2)\n",
    "    display.display(plt.gcf())\n",
    "    display.display(plt.clf())\n",
    "    display.clear_output(wait=True)\n",
    "    '''"
   ]
  },
  {
   "cell_type": "code",
   "execution_count": 263,
   "metadata": {},
   "outputs": [
    {
     "ename": "NameError",
     "evalue": "name 'furniture_items_13' is not defined",
     "output_type": "error",
     "traceback": [
      "\u001b[0;31m---------------------------------------------------------------------------\u001b[0m",
      "\u001b[0;31mNameError\u001b[0m                                 Traceback (most recent call last)",
      "\u001b[0;32m<ipython-input-263-96704e1d8d0d>\u001b[0m in \u001b[0;36m<module>\u001b[0;34m()\u001b[0m\n\u001b[1;32m      1\u001b[0m \u001b[0mroom_11\u001b[0m \u001b[0;34m=\u001b[0m \u001b[0mproblems\u001b[0m\u001b[0;34m[\u001b[0m\u001b[0;36m10\u001b[0m\u001b[0;34m]\u001b[0m\u001b[0;34m.\u001b[0m\u001b[0mroom\u001b[0m\u001b[0;34m.\u001b[0m\u001b[0mpolygon\u001b[0m\u001b[0;34m\u001b[0m\u001b[0m\n\u001b[0;32m----> 2\u001b[0;31m \u001b[0mitem\u001b[0m \u001b[0;34m=\u001b[0m \u001b[0mfurniture_items_13\u001b[0m\u001b[0;34m[\u001b[0m\u001b[0;36m3\u001b[0m\u001b[0;34m]\u001b[0m\u001b[0;34m\u001b[0m\u001b[0m\n\u001b[0m\u001b[1;32m      3\u001b[0m \u001b[0mitemExX\u001b[0m\u001b[0;34m,\u001b[0m\u001b[0mitmeExY\u001b[0m \u001b[0;34m=\u001b[0m \u001b[0mitem\u001b[0m\u001b[0;34m.\u001b[0m\u001b[0mexterior\u001b[0m\u001b[0;34m.\u001b[0m\u001b[0mxy\u001b[0m\u001b[0;34m\u001b[0m\u001b[0m\n\u001b[1;32m      4\u001b[0m \u001b[0mx\u001b[0m\u001b[0;34m,\u001b[0m \u001b[0my\u001b[0m \u001b[0;34m=\u001b[0m \u001b[0;34m(\u001b[0m\u001b[0;34m-\u001b[0m\u001b[0;36m1.449844750954127\u001b[0m\u001b[0;34m,\u001b[0m \u001b[0;34m-\u001b[0m\u001b[0;36m1.3776611332728979\u001b[0m\u001b[0;34m)\u001b[0m\u001b[0;34m\u001b[0m\u001b[0m\n\u001b[1;32m      5\u001b[0m \u001b[0mshapeCoordinates\u001b[0m \u001b[0;34m=\u001b[0m \u001b[0mlist\u001b[0m\u001b[0;34m(\u001b[0m\u001b[0mzip\u001b[0m\u001b[0;34m(\u001b[0m\u001b[0;34m*\u001b[0m\u001b[0;34m(\u001b[0m\u001b[0mitemExX\u001b[0m\u001b[0;34m,\u001b[0m\u001b[0mitmeExY\u001b[0m\u001b[0;34m)\u001b[0m\u001b[0;34m)\u001b[0m\u001b[0;34m)\u001b[0m\u001b[0;34m\u001b[0m\u001b[0m\n",
      "\u001b[0;31mNameError\u001b[0m: name 'furniture_items_13' is not defined"
     ]
    }
   ],
   "source": [
    "room_11 = problems[10].room.polygon\n",
    "item = furniture_items_13[3]\n",
    "itemExX,itmeExY = item.exterior.xy\n",
    "x, y = (-1.449844750954127, -1.3776611332728979)\n",
    "shapeCoordinates = list(zip(*(itemExX,itmeExY)))\n",
    "(shapeX, shapeY) = shapeCoordinates[11]\n",
    "trans_shape = affinity.translate(item, x-shapeX, y-shapeY)\n",
    "rotated_trans_shape = affinity.rotate(trans_shape, 259.5604053764044, origin=(x, y))\n",
    "print(rotated_trans_shape.difference(room_11).area)"
   ]
  },
  {
   "cell_type": "code",
   "execution_count": 264,
   "metadata": {},
   "outputs": [
    {
     "ename": "NameError",
     "evalue": "name 'furniture_items_13' is not defined",
     "output_type": "error",
     "traceback": [
      "\u001b[0;31m---------------------------------------------------------------------------\u001b[0m",
      "\u001b[0;31mNameError\u001b[0m                                 Traceback (most recent call last)",
      "\u001b[0;32m<ipython-input-264-a011a4f05838>\u001b[0m in \u001b[0;36m<module>\u001b[0;34m()\u001b[0m\n\u001b[1;32m      1\u001b[0m \u001b[0mroom_11\u001b[0m \u001b[0;34m=\u001b[0m \u001b[0mproblems\u001b[0m\u001b[0;34m[\u001b[0m\u001b[0;36m10\u001b[0m\u001b[0;34m]\u001b[0m\u001b[0;34m.\u001b[0m\u001b[0mroom\u001b[0m\u001b[0;34m.\u001b[0m\u001b[0mpolygon\u001b[0m\u001b[0;34m\u001b[0m\u001b[0m\n\u001b[0;32m----> 2\u001b[0;31m \u001b[0mitem\u001b[0m \u001b[0;34m=\u001b[0m \u001b[0mfurniture_items_13\u001b[0m\u001b[0;34m[\u001b[0m\u001b[0;36m3\u001b[0m\u001b[0;34m]\u001b[0m\u001b[0;34m\u001b[0m\u001b[0m\n\u001b[0m\u001b[1;32m      3\u001b[0m \u001b[0mitemExX\u001b[0m\u001b[0;34m,\u001b[0m\u001b[0mitmeExY\u001b[0m \u001b[0;34m=\u001b[0m \u001b[0mitem\u001b[0m\u001b[0;34m.\u001b[0m\u001b[0mexterior\u001b[0m\u001b[0;34m.\u001b[0m\u001b[0mxy\u001b[0m\u001b[0;34m\u001b[0m\u001b[0m\n\u001b[1;32m      4\u001b[0m \u001b[0mx\u001b[0m\u001b[0;34m,\u001b[0m \u001b[0my\u001b[0m \u001b[0;34m=\u001b[0m \u001b[0;34m(\u001b[0m\u001b[0;34m-\u001b[0m\u001b[0;36m1.449844750954127\u001b[0m\u001b[0;34m,\u001b[0m \u001b[0;34m-\u001b[0m\u001b[0;36m1.3776611332728979\u001b[0m\u001b[0;34m)\u001b[0m\u001b[0;34m\u001b[0m\u001b[0m\n\u001b[1;32m      5\u001b[0m \u001b[0mshapeCoordinates\u001b[0m \u001b[0;34m=\u001b[0m \u001b[0mlist\u001b[0m\u001b[0;34m(\u001b[0m\u001b[0mzip\u001b[0m\u001b[0;34m(\u001b[0m\u001b[0;34m*\u001b[0m\u001b[0;34m(\u001b[0m\u001b[0mitemExX\u001b[0m\u001b[0;34m,\u001b[0m\u001b[0mitmeExY\u001b[0m\u001b[0;34m)\u001b[0m\u001b[0;34m)\u001b[0m\u001b[0;34m)\u001b[0m\u001b[0;34m\u001b[0m\u001b[0m\n",
      "\u001b[0;31mNameError\u001b[0m: name 'furniture_items_13' is not defined"
     ]
    }
   ],
   "source": [
    "room_11 = problems[10].room.polygon\n",
    "item = furniture_items_13[3]\n",
    "itemExX,itmeExY = item.exterior.xy\n",
    "x, y = (-1.449844750954127, -1.3776611332728979)\n",
    "shapeCoordinates = list(zip(*(itemExX,itmeExY)))\n",
    "(shapeX, shapeY) = shapeCoordinates[11]\n",
    "trans_shape = affinity.translate(item, x-shapeX, y-shapeY)\n",
    "\n",
    "def f(angle):\n",
    "    affinity.rotate(trans_shape, angle, origin=(x, y))"
   ]
  },
  {
   "cell_type": "code",
   "execution_count": null,
   "metadata": {
    "collapsed": true
   },
   "outputs": [],
   "source": []
  },
  {
   "cell_type": "code",
   "execution_count": 265,
   "metadata": {},
   "outputs": [
    {
     "ename": "TypeError",
     "evalue": "'_io.TextIOWrapper' object is not callable",
     "output_type": "error",
     "traceback": [
      "\u001b[0;31m---------------------------------------------------------------------------\u001b[0m",
      "\u001b[0;31mTypeError\u001b[0m                                 Traceback (most recent call last)",
      "\u001b[0;32m<ipython-input-265-5f1e6a3bd3a5>\u001b[0m in \u001b[0;36m<module>\u001b[0;34m()\u001b[0m\n\u001b[0;32m----> 1\u001b[0;31m \u001b[0mangle\u001b[0m \u001b[0;34m=\u001b[0m \u001b[0mnp\u001b[0m\u001b[0;34m.\u001b[0m\u001b[0mfloat64\u001b[0m\u001b[0;34m(\u001b[0m\u001b[0;36m360\u001b[0m\u001b[0;34m)\u001b[0m \u001b[0;34m+\u001b[0m \u001b[0moptimize\u001b[0m\u001b[0;34m.\u001b[0m\u001b[0mminimize_scalar\u001b[0m\u001b[0;34m(\u001b[0m\u001b[0mf\u001b[0m\u001b[0;34m,\u001b[0m \u001b[0mbounds\u001b[0m\u001b[0;34m=\u001b[0m\u001b[0;34m(\u001b[0m\u001b[0;36m0\u001b[0m\u001b[0;34m,\u001b[0m\u001b[0;36m360\u001b[0m\u001b[0;34m)\u001b[0m\u001b[0;34m,\u001b[0m \u001b[0mmethod\u001b[0m\u001b[0;34m=\u001b[0m\u001b[0;34m'golden'\u001b[0m\u001b[0;34m,\u001b[0m \u001b[0moptions\u001b[0m\u001b[0;34m=\u001b[0m\u001b[0;34m{\u001b[0m\u001b[0;34m'xtol'\u001b[0m\u001b[0;34m:\u001b[0m \u001b[0;36m1e-15\u001b[0m\u001b[0;34m}\u001b[0m\u001b[0;34m)\u001b[0m\u001b[0;34m.\u001b[0m\u001b[0mx\u001b[0m\u001b[0;34m\u001b[0m\u001b[0m\n\u001b[0m",
      "\u001b[0;32m/Users/marigov/anaconda/lib/python3.6/site-packages/scipy/optimize/_minimize.py\u001b[0m in \u001b[0;36mminimize_scalar\u001b[0;34m(fun, bracket, bounds, args, method, tol, options)\u001b[0m\n\u001b[1;32m    615\u001b[0m         \u001b[0;32mreturn\u001b[0m \u001b[0m_minimize_scalar_bounded\u001b[0m\u001b[0;34m(\u001b[0m\u001b[0mfun\u001b[0m\u001b[0;34m,\u001b[0m \u001b[0mbounds\u001b[0m\u001b[0;34m,\u001b[0m \u001b[0margs\u001b[0m\u001b[0;34m,\u001b[0m \u001b[0;34m**\u001b[0m\u001b[0moptions\u001b[0m\u001b[0;34m)\u001b[0m\u001b[0;34m\u001b[0m\u001b[0m\n\u001b[1;32m    616\u001b[0m     \u001b[0;32melif\u001b[0m \u001b[0mmeth\u001b[0m \u001b[0;34m==\u001b[0m \u001b[0;34m'golden'\u001b[0m\u001b[0;34m:\u001b[0m\u001b[0;34m\u001b[0m\u001b[0m\n\u001b[0;32m--> 617\u001b[0;31m         \u001b[0;32mreturn\u001b[0m \u001b[0m_minimize_scalar_golden\u001b[0m\u001b[0;34m(\u001b[0m\u001b[0mfun\u001b[0m\u001b[0;34m,\u001b[0m \u001b[0mbracket\u001b[0m\u001b[0;34m,\u001b[0m \u001b[0margs\u001b[0m\u001b[0;34m,\u001b[0m \u001b[0;34m**\u001b[0m\u001b[0moptions\u001b[0m\u001b[0;34m)\u001b[0m\u001b[0;34m\u001b[0m\u001b[0m\n\u001b[0m\u001b[1;32m    618\u001b[0m     \u001b[0;32melse\u001b[0m\u001b[0;34m:\u001b[0m\u001b[0;34m\u001b[0m\u001b[0m\n\u001b[1;32m    619\u001b[0m         \u001b[0;32mraise\u001b[0m \u001b[0mValueError\u001b[0m\u001b[0;34m(\u001b[0m\u001b[0;34m'Unknown solver %s'\u001b[0m \u001b[0;34m%\u001b[0m \u001b[0mmethod\u001b[0m\u001b[0;34m)\u001b[0m\u001b[0;34m\u001b[0m\u001b[0m\n",
      "\u001b[0;32m/Users/marigov/anaconda/lib/python3.6/site-packages/scipy/optimize/optimize.py\u001b[0m in \u001b[0;36m_minimize_scalar_golden\u001b[0;34m(func, brack, args, xtol, maxiter, **unknown_options)\u001b[0m\n\u001b[1;32m   2074\u001b[0m     \u001b[0mtol\u001b[0m \u001b[0;34m=\u001b[0m \u001b[0mxtol\u001b[0m\u001b[0;34m\u001b[0m\u001b[0m\n\u001b[1;32m   2075\u001b[0m     \u001b[0;32mif\u001b[0m \u001b[0mbrack\u001b[0m \u001b[0;32mis\u001b[0m \u001b[0;32mNone\u001b[0m\u001b[0;34m:\u001b[0m\u001b[0;34m\u001b[0m\u001b[0m\n\u001b[0;32m-> 2076\u001b[0;31m         \u001b[0mxa\u001b[0m\u001b[0;34m,\u001b[0m \u001b[0mxb\u001b[0m\u001b[0;34m,\u001b[0m \u001b[0mxc\u001b[0m\u001b[0;34m,\u001b[0m \u001b[0mfa\u001b[0m\u001b[0;34m,\u001b[0m \u001b[0mfb\u001b[0m\u001b[0;34m,\u001b[0m \u001b[0mfc\u001b[0m\u001b[0;34m,\u001b[0m \u001b[0mfuncalls\u001b[0m \u001b[0;34m=\u001b[0m \u001b[0mbracket\u001b[0m\u001b[0;34m(\u001b[0m\u001b[0mfunc\u001b[0m\u001b[0;34m,\u001b[0m \u001b[0margs\u001b[0m\u001b[0;34m=\u001b[0m\u001b[0margs\u001b[0m\u001b[0;34m)\u001b[0m\u001b[0;34m\u001b[0m\u001b[0m\n\u001b[0m\u001b[1;32m   2077\u001b[0m     \u001b[0;32melif\u001b[0m \u001b[0mlen\u001b[0m\u001b[0;34m(\u001b[0m\u001b[0mbrack\u001b[0m\u001b[0;34m)\u001b[0m \u001b[0;34m==\u001b[0m \u001b[0;36m2\u001b[0m\u001b[0;34m:\u001b[0m\u001b[0;34m\u001b[0m\u001b[0m\n\u001b[1;32m   2078\u001b[0m         xa, xb, xc, fa, fb, fc, funcalls = bracket(func, xa=brack[0],\n",
      "\u001b[0;32m/Users/marigov/anaconda/lib/python3.6/site-packages/scipy/optimize/optimize.py\u001b[0m in \u001b[0;36mbracket\u001b[0;34m(func, xa, xb, args, grow_limit, maxiter)\u001b[0m\n\u001b[1;32m   2170\u001b[0m     \u001b[0m_gold\u001b[0m \u001b[0;34m=\u001b[0m \u001b[0;36m1.618034\u001b[0m  \u001b[0;31m# golden ratio: (1.0+sqrt(5.0))/2.0\u001b[0m\u001b[0;34m\u001b[0m\u001b[0m\n\u001b[1;32m   2171\u001b[0m     \u001b[0m_verysmall_num\u001b[0m \u001b[0;34m=\u001b[0m \u001b[0;36m1e-21\u001b[0m\u001b[0;34m\u001b[0m\u001b[0m\n\u001b[0;32m-> 2172\u001b[0;31m     \u001b[0mfa\u001b[0m \u001b[0;34m=\u001b[0m \u001b[0mfunc\u001b[0m\u001b[0;34m(\u001b[0m\u001b[0;34m*\u001b[0m\u001b[0;34m(\u001b[0m\u001b[0mxa\u001b[0m\u001b[0;34m,\u001b[0m\u001b[0;34m)\u001b[0m \u001b[0;34m+\u001b[0m \u001b[0margs\u001b[0m\u001b[0;34m)\u001b[0m\u001b[0;34m\u001b[0m\u001b[0m\n\u001b[0m\u001b[1;32m   2173\u001b[0m     \u001b[0mfb\u001b[0m \u001b[0;34m=\u001b[0m \u001b[0mfunc\u001b[0m\u001b[0;34m(\u001b[0m\u001b[0;34m*\u001b[0m\u001b[0;34m(\u001b[0m\u001b[0mxb\u001b[0m\u001b[0;34m,\u001b[0m\u001b[0;34m)\u001b[0m \u001b[0;34m+\u001b[0m \u001b[0margs\u001b[0m\u001b[0;34m)\u001b[0m\u001b[0;34m\u001b[0m\u001b[0m\n\u001b[1;32m   2174\u001b[0m     \u001b[0;32mif\u001b[0m \u001b[0;34m(\u001b[0m\u001b[0mfa\u001b[0m \u001b[0;34m<\u001b[0m \u001b[0mfb\u001b[0m\u001b[0;34m)\u001b[0m\u001b[0;34m:\u001b[0m                      \u001b[0;31m# Switch so fa > fb\u001b[0m\u001b[0;34m\u001b[0m\u001b[0m\n",
      "\u001b[0;31mTypeError\u001b[0m: '_io.TextIOWrapper' object is not callable"
     ]
    }
   ],
   "source": [
    "angle = np.float64(360) + optimize.minimize_scalar(f, bounds=(0,360), method='golden', options={'xtol': 1e-15}).x"
   ]
  },
  {
   "cell_type": "code",
   "execution_count": 266,
   "metadata": {},
   "outputs": [
    {
     "ename": "NameError",
     "evalue": "name 'trans_shape' is not defined",
     "output_type": "error",
     "traceback": [
      "\u001b[0;31m---------------------------------------------------------------------------\u001b[0m",
      "\u001b[0;31mNameError\u001b[0m                                 Traceback (most recent call last)",
      "\u001b[0;32m<ipython-input-266-b6fa34452fec>\u001b[0m in \u001b[0;36m<module>\u001b[0;34m()\u001b[0m\n\u001b[0;32m----> 1\u001b[0;31m \u001b[0mstr\u001b[0m\u001b[0;34m(\u001b[0m\u001b[0mlist\u001b[0m\u001b[0;34m(\u001b[0m\u001b[0mzip\u001b[0m\u001b[0;34m(\u001b[0m\u001b[0;34m*\u001b[0m\u001b[0maffinity\u001b[0m\u001b[0;34m.\u001b[0m\u001b[0mrotate\u001b[0m\u001b[0;34m(\u001b[0m\u001b[0mtrans_shape\u001b[0m\u001b[0;34m,\u001b[0m \u001b[0mangle\u001b[0m\u001b[0;34m,\u001b[0m \u001b[0morigin\u001b[0m\u001b[0;34m=\u001b[0m\u001b[0;34m(\u001b[0m\u001b[0mx\u001b[0m\u001b[0;34m,\u001b[0m \u001b[0my\u001b[0m\u001b[0;34m)\u001b[0m\u001b[0;34m)\u001b[0m\u001b[0;34m.\u001b[0m\u001b[0mexterior\u001b[0m\u001b[0;34m.\u001b[0m\u001b[0mxy\u001b[0m\u001b[0;34m)\u001b[0m\u001b[0;34m)\u001b[0m\u001b[0;34m[\u001b[0m\u001b[0;34m:\u001b[0m\u001b[0;34m-\u001b[0m\u001b[0;36m1\u001b[0m\u001b[0;34m]\u001b[0m\u001b[0;34m)\u001b[0m\u001b[0;34m\u001b[0m\u001b[0m\n\u001b[0m",
      "\u001b[0;31mNameError\u001b[0m: name 'trans_shape' is not defined"
     ]
    }
   ],
   "source": [
    "str(list(zip(*affinity.rotate(trans_shape, angle, origin=(x, y)).exterior.xy))[:-1])"
   ]
  },
  {
   "cell_type": "code",
   "execution_count": 267,
   "metadata": {},
   "outputs": [
    {
     "ename": "NameError",
     "evalue": "name 'updatable_room' is not defined",
     "output_type": "error",
     "traceback": [
      "\u001b[0;31m---------------------------------------------------------------------------\u001b[0m",
      "\u001b[0;31mNameError\u001b[0m                                 Traceback (most recent call last)",
      "\u001b[0;32m<ipython-input-267-7bfce9b2385f>\u001b[0m in \u001b[0;36m<module>\u001b[0;34m()\u001b[0m\n\u001b[0;32m----> 1\u001b[0;31m \u001b[0mupdatable_room\u001b[0m\u001b[0;34m.\u001b[0m\u001b[0mexterior\u001b[0m\u001b[0;34m.\u001b[0m\u001b[0mxy\u001b[0m\u001b[0;34m\u001b[0m\u001b[0m\n\u001b[0m",
      "\u001b[0;31mNameError\u001b[0m: name 'updatable_room' is not defined"
     ]
    }
   ],
   "source": [
    "updatable_room.exterior.xy"
   ]
  },
  {
   "cell_type": "code",
   "execution_count": 268,
   "metadata": {},
   "outputs": [
    {
     "data": {
      "image/svg+xml": [
       "<svg xmlns=\"http://www.w3.org/2000/svg\" xmlns:xlink=\"http://www.w3.org/1999/xlink\" width=\"100.0\" height=\"100.0\" viewBox=\"-2.32 -0.32 8.64 6.640000000000001\" preserveAspectRatio=\"xMinYMin meet\"><g transform=\"matrix(1,0,0,-1,0,6.0)\"><path fill-rule=\"evenodd\" fill=\"#66cc99\" stroke=\"#555555\" stroke-width=\"0.1728\" opacity=\"0.6\" d=\"M 0.0,0.0 L 5.0,0.0 L 6.0,4.0 L 5.0,4.0 L 5.0,6.0 L 3.0,6.0 L 3.0,4.0 L 2.0,4.0 L 2.0,6.0 L 0.0,6.0 L 0.0,4.0 L -2.0,4.0 L 0.0,0.0 z\" /></g></svg>"
      ],
      "text/plain": [
       "<shapely.geometry.polygon.Polygon at 0x1058012e8>"
      ]
     },
     "execution_count": 268,
     "metadata": {},
     "output_type": "execute_result"
    }
   ],
   "source": [
    "problems[2].room.polygon"
   ]
  },
  {
   "cell_type": "code",
   "execution_count": 269,
   "metadata": {},
   "outputs": [
    {
     "data": {
      "text/plain": [
       "120"
      ]
     },
     "execution_count": 269,
     "metadata": {},
     "output_type": "execute_result"
    }
   ],
   "source": [
    "len(problems[2].furniture)"
   ]
  },
  {
   "cell_type": "code",
   "execution_count": 270,
   "metadata": {},
   "outputs": [
    {
     "ename": "NameError",
     "evalue": "name 'plot' is not defined",
     "output_type": "error",
     "traceback": [
      "\u001b[0;31m---------------------------------------------------------------------------\u001b[0m",
      "\u001b[0;31mNameError\u001b[0m                                 Traceback (most recent call last)",
      "\u001b[0;32m<ipython-input-270-3e7768c8edfb>\u001b[0m in \u001b[0;36m<module>\u001b[0;34m()\u001b[0m\n\u001b[0;32m----> 1\u001b[0;31m \u001b[0mplot\u001b[0m\u001b[0;34m(\u001b[0m\u001b[0mproblems\u001b[0m\u001b[0;34m[\u001b[0m\u001b[0;36m1\u001b[0m\u001b[0;34m]\u001b[0m\u001b[0;34m.\u001b[0m\u001b[0mroom\u001b[0m\u001b[0;34m.\u001b[0m\u001b[0mpolygon\u001b[0m\u001b[0;34m)\u001b[0m\u001b[0;34m\u001b[0m\u001b[0m\n\u001b[0m",
      "\u001b[0;31mNameError\u001b[0m: name 'plot' is not defined"
     ]
    }
   ],
   "source": [
    "plot(problems[1].room.polygon)"
   ]
  },
  {
   "cell_type": "code",
   "execution_count": 5,
   "metadata": {},
   "outputs": [
    {
     "name": "stdout",
     "output_type": "stream",
     "text": [
      "324.0\n",
      "array('d', [0.0, 6.0, 3.0, 0.0]) array('d', [0.0, 0.0, 6.0, 0.0])\n"
     ]
    },
    {
     "ename": "NameError",
     "evalue": "name 'plot' is not defined",
     "output_type": "error",
     "traceback": [
      "\u001b[0;31m---------------------------------------------------------------------------\u001b[0m",
      "\u001b[0;31mNameError\u001b[0m                                 Traceback (most recent call last)",
      "\u001b[0;32m<ipython-input-5-e53a844dcf16>\u001b[0m in \u001b[0;36m<module>\u001b[0;34m()\u001b[0m\n\u001b[1;32m      9\u001b[0m     \u001b[0mx\u001b[0m\u001b[0;34m,\u001b[0m\u001b[0my\u001b[0m \u001b[0;34m=\u001b[0m \u001b[0mshape\u001b[0m\u001b[0;34m.\u001b[0m\u001b[0mpolygon\u001b[0m\u001b[0;34m.\u001b[0m\u001b[0mexterior\u001b[0m\u001b[0;34m.\u001b[0m\u001b[0mxy\u001b[0m\u001b[0;34m\u001b[0m\u001b[0m\n\u001b[1;32m     10\u001b[0m     \u001b[0mprint\u001b[0m\u001b[0;34m(\u001b[0m\u001b[0mx\u001b[0m\u001b[0;34m,\u001b[0m\u001b[0my\u001b[0m\u001b[0;34m)\u001b[0m\u001b[0;34m\u001b[0m\u001b[0m\n\u001b[0;32m---> 11\u001b[0;31m     \u001b[0mplot\u001b[0m\u001b[0;34m(\u001b[0m\u001b[0mshape\u001b[0m\u001b[0;34m.\u001b[0m\u001b[0mpolygon\u001b[0m\u001b[0;34m)\u001b[0m\u001b[0;34m\u001b[0m\u001b[0m\n\u001b[0m",
      "\u001b[0;31mNameError\u001b[0m: name 'plot' is not defined"
     ]
    }
   ],
   "source": [
    "sorted_shapes = []\n",
    "for shape in problems[1].furniture:\n",
    "    sorted_shapes.append((shape, shape.total_cost))\n",
    "\n",
    "sorted_shapes = sorted(sorted_shapes, key = lambda x:x[1], reverse=True)\n",
    "\n",
    "for (shape, cost) in sorted_shapes:\n",
    "    print(cost)\n",
    "    x,y = shape.polygon.exterior.xy\n",
    "    print(x,y)\n",
    "    plot(shape.polygon)"
   ]
  },
  {
   "cell_type": "code",
   "execution_count": null,
   "metadata": {
    "collapsed": true
   },
   "outputs": [],
   "source": [
    "def insertRandomShape(room, shape):\n",
    "    room_coordinates = list(zip(*room.exterior.xy))\n",
    "    random_vertex = random.randint(0, len(room_coordinates) - 1)\n",
    "    room_vertex = room_coordinates[random_vertex]\n",
    "    shape_coordinates = list(zip(*shape.exterior.xy))\n",
    "\n",
    "    room_coordinate_x = room_vertex[0]\n",
    "    room_coordinate_y = room_vertex[1]\n",
    "\n",
    "    def f(angle):\n",
    "        return affinity.rotate(shape, angle, origin=(room_coordinate_x, room_coordinate_y)).difference(room).area\n",
    "\n",
    "    for shape_coordinate_x, shape_coordinate_y in shape_coordinates:\n",
    "        new_translated_shape = affinity.translate(shape, room_coordinate_x - shape_coordinate_x, room_coordinate_y - shape_coordinate_y)\n",
    "        angle = np.float64(360) + optimize.minimize_scalar(f, bounds=(0,360), method='golden', options={'xtol': 1e-15}).x\n",
    "        new_rotated_shape = affinity.rotate(new_translated_shape, angle, origin=(room_coordinate_x, room_coordinate_y))\n",
    "\n",
    "        if (room.difference(new_rotated_shape).area == room.area - new_rotated_shape.area):\n",
    "            new_updatable_room = Polygon()\n",
    "            room_to_check = room.difference(new_rotated_shape)\n",
    "            if (room_to_check.geom_type == 'MultiPolygon'):\n",
    "                for poly in room_to_check:\n",
    "                    new_updatable_room.union(poly)\n",
    "            else:\n",
    "                new_updatable_room = room_to_check\n",
    "\n",
    "            if new_updatable_room.area > 0.00000000000000000000001:\n",
    "                return (True, new_updatable_room, new_rotated_shape)\n",
    "            else:\n",
    "                continue\n",
    "    return (False, room, shape)\n",
    "\n",
    "def insertShape(room, shape, x, y):\n",
    "    shape_coordinates = list(zip(*shape.exterior.xy))\n",
    "\n",
    "    room_coordinate_x = x\n",
    "    room_coordinate_y = y\n",
    "\n",
    "    def f(angle):\n",
    "        return affinity.rotate(shape, angle, origin=(room_coordinate_x, room_coordinate_y)).difference(room).area\n",
    "\n",
    "    for shape_coordinate_x, shape_coordinate_y in shape_coordinates:\n",
    "        new_translated_shape = affinity.translate(shape, room_coordinate_x - shape_coordinate_x, room_coordinate_y - shape_coordinate_y)\n",
    "        angle = np.float64(360) + optimize.minimize_scalar(f, bounds=(0,360), method='golden', options={'xtol': 1e-15}).x\n",
    "        new_rotated_shape = affinity.rotate(new_translated_shape, 0, origin=(room_coordinate_x, room_coordinate_y))\n",
    "\n",
    "        if (room.difference(new_rotated_shape).area == room.area - new_rotated_shape.area):\n",
    "            new_updatable_room = Polygon()\n",
    "            room_to_check = room.difference(new_rotated_shape)\n",
    "            if (room_to_check.geom_type == 'MultiPolygon'):\n",
    "                for poly in room_to_check:\n",
    "                    new_updatable_room.union(poly)\n",
    "            else:\n",
    "                new_updatable_room = room_to_check\n",
    "\n",
    "            if new_updatable_room.area > 0.00000000000000000000001:\n",
    "                return (True, new_updatable_room, new_rotated_shape)\n",
    "            else:\n",
    "                continue\n",
    "    return (False, room, shape)\n",
    "\n",
    "def algorithm(problem):\n",
    "    updatable_room = problem.room.polygon\n",
    "    shapes = problem.furniture\n",
    "\n",
    "    solution = []\n",
    "    solution_shapes = []\n",
    "\n",
    "    sorted_shapes = []\n",
    "    for shape in shapes:\n",
    "        sorted_shapes.append((shape, shape.total_cost))\n",
    "\n",
    "    sorted_shapes = sorted(sorted_shapes, key = lambda x:x[1], reverse=True)\n",
    "\n",
    "    for shape, d in sorted_shapes:\n",
    "        for (x,y) in list(zip(*updatable_room.exterior.xy)):\n",
    "            (isInserted, updatable_room, updated_shape) = insertShape(updatable_room, shape.polygon, x, y)\n",
    "            if isInserted:\n",
    "                    x, y = updated_shape.exterior.xy\n",
    "                    solution_shapes.append(shape)\n",
    "                    solution.append(list(zip(*(x,y))))\n",
    "                    print(1 - updatable_room.area / problem.room.polygon.area)\n",
    "                    sorted_shapes.remove((shape, d))\n",
    "                    plt.plot(updatable_room.exterior.xy[0], updatable_room.exterior.xy[1], color='#6699cc', alpha=0.7, linewidth=3, solid_capstyle='round', zorder=2)\n",
    "                    plt.plot(x, y, color='#e50000', alpha=0.7, linewidth=3, solid_capstyle='round', zorder=2)\n",
    "                    display.display(plt.gcf())\n",
    "                    display.display(plt.clf())\n",
    "                    display.clear_output(wait=True)\n",
    "                    time.sleep(0.0001)\n",
    "                    break\n",
    "    \n",
    "    for i in range(10):\n",
    "        for shape, d in sorted_shapes:\n",
    "            (tmpX, tmpY) = shape.polygon.exterior.xy\n",
    "            if len(tmpX) == 4:\n",
    "                (isInserted, updatable_room, updated_shape) = insertRandomShape(updatable_room, shape.polygon)\n",
    "                if isInserted:\n",
    "                    x, y = updated_shape.exterior.xy\n",
    "                    solution_shapes.append(shape)\n",
    "                    solution.append(list(zip(*(x,y))))\n",
    "                    print(1 - updatable_room.area / problem.room.polygon.area)\n",
    "                    sorted_shapes.remove((shape, d))\n",
    "                    plt.plot(updatable_room.exterior.xy[0], updatable_room.exterior.xy[1], color='#6699cc', alpha=0.7, linewidth=3, solid_capstyle='round', zorder=2)\n",
    "                    plt.plot(x, y, color='#e50000', alpha=0.7, linewidth=3, solid_capstyle='round', zorder=2)\n",
    "                    display.display(plt.gcf())\n",
    "                    display.display(plt.clf())\n",
    "                    display.clear_output(wait=True)\n",
    "                    time.sleep(0.0001)\n",
    "     \n",
    "    for i in range(100):\n",
    "        for shape, d in sorted_shapes:\n",
    "            x, y = shape.polygon.exterior.xy\n",
    "            points = random_points_within(updatable_room, 1)[0]\n",
    "            polygon = affinity.translate(shape.polygon, points.x, points.y)\n",
    "            polygon = affinity.rotate(polygon, random.uniform(0, 180), origin=\"centroid\")\n",
    "            if updatable_room.contains(polygon):\n",
    "                updatable_room = updatable_room.difference(polygon)\n",
    "                x, y = polygon.exterior.xy\n",
    "                solution_shapes.append(shape)\n",
    "                solution.append(list(zip(*(x, y))))\n",
    "                sorted_shapes.remove((shape, d))\n",
    "                print(1 - updatable_room.area / problem.room.polygon.area)\n",
    "                plt.plot(updatable_room.exterior.xy[0], updatable_room.exterior.xy[1], color='#6699cc', alpha=0.7, linewidth=3, solid_capstyle='round', zorder=2)\n",
    "                plt.plot(x, y, color='#e50000', alpha=0.7, linewidth=3, solid_capstyle='round', zorder=2)\n",
    "                display.display(plt.gcf())\n",
    "                display.display(plt.clf())\n",
    "                display.clear_output(wait=True)\n",
    "                time.sleep(0.0001)\n",
    "\n",
    "\n",
    "    test_room = updatable_room\n",
    "    print(\"Area coverage: \" + str(1 - (updatable_room.area / problem.room.polygon.area)))\n",
    "    return (solution, solution_shapes)\n",
    "\n",
    "def get_output(solution):\n",
    "    output = \"\"\n",
    "    for x in solution:\n",
    "        output = output + str(x[:-1]).replace('[','').replace(']','') + \"; \"\n",
    "    return output\n",
    "\n",
    "def get_cost(solution_shapes):\n",
    "    total_cost = 0\n",
    "    for shape in solution_shapes:\n",
    "        total_cost = total_cost + shape.total_cost\n",
    "    return total_cost\n",
    "\n",
    "i = 4\n",
    "(solution, solution_shapes) = algorithm(problems[i-1])\n",
    "print(\"Problem\" + str(i))\n",
    "print(get_output(solution))\n",
    "print(get_cost(solution_shapes))\n"
   ]
  },
  {
   "cell_type": "code",
   "execution_count": 357,
   "metadata": {
    "scrolled": true
   },
   "outputs": [
    {
     "data": {
      "image/png": "[encoded data removed]",
      "text/plain": [
       "<matplotlib.figure.Figure at 0x10577a080>"
      ]
     },
     "metadata": {},
     "output_type": "display_data"
    }
   ],
   "source": [
    "def newPlot(poly):\n",
    "    x,y = poly.exterior.xy\n",
    "    plt.plot(x, y, color='#6699cc', alpha=0.7, linewidth=3, solid_capstyle='round', zorder=2)\n",
    "    time.sleep(1)\n",
    "    \n",
    "\n",
    "newPlot(problems[3].room.polygon)\n",
    "#newPlot(Polygon([(0.0,0.0), (3.0, 6.0), (6.0, 0.0)]))\n",
    "#newPlot(Polygon([(6, 0.0), (11, 0.0), (6, 5.0)]))\n"
   ]
  },
  {
   "cell_type": "code",
   "execution_count": 1,
   "metadata": {},
   "outputs": [
    {
     "ename": "NameError",
     "evalue": "name 'problems' is not defined",
     "output_type": "error",
     "traceback": [
      "\u001b[0;31m---------------------------------------------------------------------------\u001b[0m",
      "\u001b[0;31mNameError\u001b[0m                                 Traceback (most recent call last)",
      "\u001b[0;32m<ipython-input-1-61ee7fd60539>\u001b[0m in \u001b[0;36m<module>\u001b[0;34m()\u001b[0m\n\u001b[1;32m      1\u001b[0m \u001b[0msorted_shapes\u001b[0m \u001b[0;34m=\u001b[0m \u001b[0;34m[\u001b[0m\u001b[0;34m]\u001b[0m\u001b[0;34m\u001b[0m\u001b[0m\n\u001b[0;32m----> 2\u001b[0;31m \u001b[0;32mfor\u001b[0m \u001b[0mshape\u001b[0m \u001b[0;32min\u001b[0m \u001b[0mproblems\u001b[0m\u001b[0;34m[\u001b[0m\u001b[0;36m20\u001b[0m\u001b[0;34m]\u001b[0m\u001b[0;34m.\u001b[0m\u001b[0mfurniture\u001b[0m\u001b[0;34m:\u001b[0m\u001b[0;34m\u001b[0m\u001b[0m\n\u001b[0m\u001b[1;32m      3\u001b[0m     \u001b[0msorted_shapes\u001b[0m\u001b[0;34m.\u001b[0m\u001b[0mappend\u001b[0m\u001b[0;34m(\u001b[0m\u001b[0;34m(\u001b[0m\u001b[0mshape\u001b[0m\u001b[0;34m,\u001b[0m \u001b[0mshape\u001b[0m\u001b[0;34m.\u001b[0m\u001b[0mtotal_cost\u001b[0m\u001b[0;34m)\u001b[0m\u001b[0;34m)\u001b[0m\u001b[0;34m\u001b[0m\u001b[0m\n\u001b[1;32m      4\u001b[0m \u001b[0;34m\u001b[0m\u001b[0m\n\u001b[1;32m      5\u001b[0m \u001b[0msorted_shapes\u001b[0m \u001b[0;34m=\u001b[0m \u001b[0msorted\u001b[0m\u001b[0;34m(\u001b[0m\u001b[0msorted_shapes\u001b[0m\u001b[0;34m,\u001b[0m \u001b[0mkey\u001b[0m \u001b[0;34m=\u001b[0m \u001b[0;32mlambda\u001b[0m \u001b[0mx\u001b[0m\u001b[0;34m:\u001b[0m\u001b[0mx\u001b[0m\u001b[0;34m[\u001b[0m\u001b[0;36m1\u001b[0m\u001b[0;34m]\u001b[0m\u001b[0;34m,\u001b[0m \u001b[0mreverse\u001b[0m\u001b[0;34m=\u001b[0m\u001b[0;32mTrue\u001b[0m\u001b[0;34m)\u001b[0m\u001b[0;34m\u001b[0m\u001b[0m\n",
      "\u001b[0;31mNameError\u001b[0m: name 'problems' is not defined"
     ]
    }
   ],
   "source": [
    "sorted_shapes = []\n",
    "for shape in problems[20].furniture:\n",
    "    sorted_shapes.append((shape, shape.total_cost))\n",
    "\n",
    "sorted_shapes = sorted(sorted_shapes, key = lambda x:x[1], reverse=True)\n",
    "\n",
    "for (shape, cost) in sorted_shapes:\n",
    "#     if (shape.polygon.area == 26):\n",
    "#         x,y = shape.polygon.exterior.xy\n",
    "#         print(x,y)\n",
    "    print(cost)\n",
    "    print(shape.polygon.area)\n",
    "    x,y = shape.polygon.exterior.xy\n",
    "    print(x,y)\n",
    "    newPlot(shape.polygon)"
   ]
  },
  {
   "cell_type": "code",
   "execution_count": null,
   "metadata": {
    "collapsed": true
   },
   "outputs": [],
   "source": [
    "room_coords = list(zip(*problems[6].room.polygon.exterior.xy))\n",
    "for i in range(1,len(room_coords)):\n",
    "    print((np.sqrt((room_coords[i][0]-room_coords[i-1][0])**2+(room_coords[i][1]-room_coords[i-1][1])**2)))"
   ]
  },
  {
   "cell_type": "code",
   "execution_count": null,
   "metadata": {
    "collapsed": true
   },
   "outputs": [],
   "source": [
    "for item in problems[6].furniture:\n",
    "    item_coords = list(zip(*item.polygon.exterior.xy))\n",
    "    for i in range(1,len(item_coords)):\n",
    "            print((np.sqrt((item_coords[i][0]-item_coords[i-1][0])**2+(item_coords[i][1]-item_coords[i-1][1])**2)))"
   ]
  },
  {
   "cell_type": "code",
   "execution_count": 435,
   "metadata": {
    "collapsed": true
   },
   "outputs": [],
   "source": [
    "our_room = problems[9].room.polygon\n",
    "our_list = list(zip(*our_room.exterior.xy))[:-1]\n",
    "new_list = []\n",
    "vectors = []"
   ]
  },
  {
   "cell_type": "code",
   "execution_count": 436,
   "metadata": {
    "collapsed": true
   },
   "outputs": [],
   "source": [
    "for i, j, k in zip(range(0, len(our_list)), range(0, len(our_list)), range(0, len(our_list))):\n",
    "    j = (j+1) % len(our_list)\n",
    "    k = (k+2) % len(our_list)\n",
    "    new_list.append((our_list[i], our_list[j], our_list[k]))\n",
    "    #print(our_list[i], our_list[j], our_list[k])"
   ]
  },
  {
   "cell_type": "code",
   "execution_count": 437,
   "metadata": {
    "collapsed": true
   },
   "outputs": [],
   "source": [
    "vectors = []\n",
    "for i, j, k in new_list:\n",
    "    a = np.subtract(i,j)\n",
    "    b = np.subtract(k,j)\n",
    "    c = np.add(a, b)\n",
    "    d = np.add(j, c)\n",
    "    new_d = (d[0], d[1])\n",
    "    vectors.append((i, j, k, new_d))"
   ]
  },
  {
   "cell_type": "code",
   "execution_count": 438,
   "metadata": {
    "collapsed": true
   },
   "outputs": [],
   "source": [
    "sorted_room_shapes = []\n",
    "for vector in vectors:\n",
    "    poly = Polygon(vector)\n",
    "    sorted_room_shapes.append((poly, np.round(poly.area)))\n",
    "    #print(Polygon(vector).area)\n",
    "sorted_room_shapes = sorted(sorted_room_shapes, key = lambda x:x[1], reverse=True)"
   ]
  },
  {
   "cell_type": "code",
   "execution_count": 439,
   "metadata": {
    "collapsed": true
   },
   "outputs": [],
   "source": [
    "sorted_shapes = []\n",
    "for shape in problems[9].furniture:\n",
    "    sorted_shapes.append((shape, np.round(shape.polygon.area)))\n",
    "sorted_shapes = sorted(sorted_shapes, key = lambda x:x[1], reverse=True)"
   ]
  },
  {
   "cell_type": "code",
   "execution_count": 440,
   "metadata": {
    "collapsed": true
   },
   "outputs": [],
   "source": [
    "d_sorted_room_shapes = {k: v for v, k in sorted_room_shapes}\n",
    "d_room_shapes = {k: v for v, k in sorted_shapes}"
   ]
  },
  {
   "cell_type": "code",
   "execution_count": 441,
   "metadata": {
    "collapsed": true
   },
   "outputs": [],
   "source": [
    "final_solution = [(d_sorted_room_shapes[k],d_room_shapes[k]) for k in d_sorted_room_shapes.keys()&d_room_shapes.keys()]"
   ]
  },
  {
   "cell_type": "code",
   "execution_count": 442,
   "metadata": {},
   "outputs": [
    {
     "name": "stdout",
     "output_type": "stream",
     "text": [
      "0.3125\n",
      "[(2.830742069885416, -2.8699998839339393), (2.5860840267503074, -3.3726353800235978), (3.5317678824470544, -2.9625353372602072), (3.776425925582163, -2.459899841170549), (2.830742069885416, -2.8699998839339393)]\n",
      "1.0\n",
      "[(-0.7935612658879052, -0.6084903592353664), (0.0, 0.0), (-0.6084903592353665, 0.7935612658879052), (-1.4020516251232717, 0.18507090665253878), (-0.7935612658879052, -0.6084903592353664)]\n",
      "3.25\n",
      "[(3.5317678824470544, -2.9625353372602072), (2.0105419843586385, -0.9786321725404441), (2.8041032502465435, -0.37014181330507784), (4.325329148334959, -2.3540449780248407), (3.5317678824470544, -2.9625353372602072)]\n",
      "9.0\n",
      "[(2.195612891011177, 0.4234194525828279), (-0.18507090665253884, -1.4020516251232717), (-0.7935612658879052, -0.6084903592353664), (1.5871225317758106, 1.2169807184707333), (2.195612891011177, 0.4234194525828279)]\n"
     ]
    }
   ],
   "source": [
    "for item in final_solution:\n",
    "    print(item[1].total_cost)\n",
    "    print(list(zip(*item[0].exterior.xy)))\n",
    "    #print(list(zip(*item[1].polygon.exterior.xy)))\n",
    "    pl"
   ]
  },
  {
   "cell_type": "code",
   "execution_count": 351,
   "metadata": {},
   "outputs": [
    {
     "data": {
      "image/svg+xml": [
       "<svg xmlns=\"http://www.w3.org/2000/svg\" xmlns:xlink=\"http://www.w3.org/1999/xlink\" width=\"100.0\" height=\"100.0\" viewBox=\"21.659196470756847 -33.67103574615044 16.735680015072674 13.051111643307589\" preserveAspectRatio=\"xMinYMin meet\"><g transform=\"matrix(1,0,0,-1,0,-54.29095984899328)\"><path fill-rule=\"evenodd\" fill=\"#66cc99\" stroke=\"#555555\" stroke-width=\"0.3347136003014535\" opacity=\"0.6\" d=\"M 37.77503648527127,-25.574335153360764 L 35.28274962119413,-21.239764103401097 L 22.279036471315095,-28.71662469563252 L 24.77132333539224,-33.05119574559219 L 37.77503648527127,-25.574335153360764 z\" /></g></svg>"
      ],
      "text/plain": [
       "<shapely.geometry.polygon.Polygon at 0x10e7644a8>"
      ]
     },
     "execution_count": 351,
     "metadata": {},
     "output_type": "execute_result"
    }
   ],
   "source": [
    "shape_to_insert = Polygon([(37.77503648527127, -25.574335153360764), (35.28274962119413, -21.239764103401097), (22.279036471315095, -28.71662469563252), (24.77132333539224, -33.05119574559219)])\n",
    "shape_to_insert"
   ]
  },
  {
   "cell_type": "code",
   "execution_count": 359,
   "metadata": {},
   "outputs": [
    {
     "data": {
      "image/png": "[encoded data removed]",
      "text/plain": [
       "<matplotlib.figure.Figure at 0x10555b940>"
      ]
     },
     "metadata": {},
     "output_type": "display_data"
    }
   ],
   "source": [
    "newPlot(shape_to_insert)\n",
    "newPlot(room_16)\n",
    "plt.show()"
   ]
  },
  {
   "cell_type": "code",
   "execution_count": 418,
   "metadata": {},
   "outputs": [
    {
     "data": {
      "image/svg+xml": [
       "<svg xmlns=\"http://www.w3.org/2000/svg\" xmlns:xlink=\"http://www.w3.org/1999/xlink\" width=\"100.0\" height=\"100.0\" viewBox=\"-9.319086403110044 4.940637083882883 8.88284227188991 4.005177004724822\" preserveAspectRatio=\"xMinYMin meet\"><g transform=\"matrix(1,0,0,-1,0,13.886451172490588)\"><path fill-rule=\"evenodd\" fill=\"#66cc99\" stroke=\"#555555\" stroke-width=\"0.1776568454377982\" opacity=\"0.6\" d=\"M -0.7652382894382784,7.239779717669425 L -8.645832191711866,8.61681993038956 L -8.9900922448919,6.646671454821163 L -1.109498342618312,5.269631242101028 L -0.7652382894382784,7.239779717669425 z\" /></g></svg>"
      ],
      "text/plain": [
       "<shapely.geometry.polygon.Polygon at 0x105c6ea90>"
      ]
     },
     "execution_count": 418,
     "metadata": {},
     "output_type": "execute_result"
    }
   ],
   "source": [
    "Polygon([(-0.7652382894382784, 7.239779717669425), (-8.645832191711866, 8.61681993038956), (-8.9900922448919, 6.646671454821163), (-1.109498342618312, 5.269631242101028)])"
   ]
  },
  {
   "cell_type": "code",
   "execution_count": null,
   "metadata": {
    "collapsed": true
   },
   "outputs": [],
   "source": []
  }
 ],
 "metadata": {
  "kernelspec": {
   "display_name": "Python [conda root]",
   "language": "python",
   "name": "conda-root-py"
  },
  "language_info": {
   "codemirror_mode": {
    "name": "ipython",
    "version": 3
   },
   "file_extension": ".py",
   "mimetype": "text/x-python",
   "name": "python",
   "nbconvert_exporter": "python",
   "pygments_lexer": "ipython3",
   "version": "3.6.1"
  }
 },
 "nbformat": 4,
 "nbformat_minor": 2
}
